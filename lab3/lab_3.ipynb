{
 "cells": [
  {
   "cell_type": "markdown",
   "metadata": {},
   "source": [
    "# Sieci neuronowe"
   ]
  },
  {
   "cell_type": "markdown",
   "metadata": {},
   "source": [
    "## Wstęp\n",
    "\n",
    "Celem laboratorium jest zapoznanie się z podstawami sieci neuronowych oraz uczeniem głębokim (*deep learning*). Zapoznasz się na nim z następującymi tematami:\n",
    "- treningiem prostych sieci neuronowych, w szczególności z:\n",
    "  - regresją liniową w sieciach neuronowych\n",
    "  - optymalizacją funkcji kosztu\n",
    "  - algorytmem spadku wzdłuż gradientu\n",
    "  - siecią typu Multilayer Perceptron (MLP)\n",
    "- frameworkiem PyTorch, w szczególności z:\n",
    "  - ładowaniem danych\n",
    "  - preprocessingiem danych\n",
    "  - pisaniem pętli treningowej i walidacyjnej\n",
    "  - walidacją modeli\n",
    "- architekturą i hiperaprametrami sieci MLP, w szczególności z:\n",
    "  - warstwami gęstymi (w pełni połączonymi)\n",
    "  - funkcjami aktywacji\n",
    "  - regularyzacją: L2, dropout"
   ]
  },
  {
   "cell_type": "markdown",
   "metadata": {},
   "source": [
    "## Wykorzystywane biblioteki\n",
    "\n",
    "Zaczniemy od pisania ręcznie prostych sieci w bibliotece Numpy, służącej do obliczeń numerycznych na CPU. Później przejdziemy do wykorzystywania frameworka PyTorch, służącego do obliczeń numerycznych na CPU, GPU oraz automatycznego różniczkowania, wykorzystywanego głównie do treningu sieci neuronowych.\n",
    "\n",
    "Wykorzystamy PyTorcha ze względu na popularność, łatwość instalacji i użycia, oraz dużą kontrolę nad niskopoziomowymi aspektami budowy i treningu sieci neuronowych. Framework ten został stworzony do zastosowań badawczych i naukowych, ale ze względu na wygodę użycia stał się bardzo popularny także w przemyśle. W szczególności całkowicie zdominował przetwarzanie języka naturalnego (NLP) oraz uczenie na grafach.\n",
    "\n",
    "Pierwszy duży framework do deep learningu, oraz obecnie najpopularniejszy, to TensorFlow, wraz z wysokopoziomową nakładką Keras. Są jednak szanse, że Google (autorzy) będzie go powoli porzucać na rzecz ich nowego frameworka JAX ([dyskusja](https://www.reddit.com/r/MachineLearning/comments/vfl57t/d_google_quietly_moving_its_products_from/), [artykuł Business Insidera](https://www.businessinsider.com/facebook-pytorch-beat-google-tensorflow-jax-meta-ai-2022-6?IR=T)), który jest bardzo świeżym, ale ciekawym narzędziem.\n",
    "\n",
    "Trzecia, ale znacznie mniej popularna od powyższych opcja to Apache MXNet."
   ]
  },
  {
   "cell_type": "markdown",
   "metadata": {},
   "source": [
    "## Konfiguracja własnego komputera\n",
    "\n",
    "Jeżeli korzystasz z własnego komputera, to musisz zainstalować trochę więcej bibliotek (Google Colab ma je już zainstalowane).\n",
    "\n",
    "Jeżeli nie masz GPU lub nie chcesz z niego korzystać, to wystarczy znaleźć odpowiednią komendę CPU [na stronie PyTorcha](https://pytorch.org/get-started/locally/). Dla Anacondy odpowiednia komenda została podana poniżej, dla pip'a znajdź ją na stronie.\n",
    "\n",
    "Jeżeli chcesz korzystać ze wsparcia GPU (na tym laboratorium nie będzie potrzebne, na kolejnych może przyspieszyć nieco obliczenia), to musi być to odpowiednio nowa karta NVidii, mająca CUDA compatibility ([lista](https://developer.nvidia.com/cuda-gpus)). Poza PyTorchem będzie potrzebne narzędzie NVidia CUDA w wersji 11.6 lub 11.7. Instalacja na Windowsie jest bardzo prosta (wystarczy ściągnąć plik EXE i zainstalować jak każdy inny program). Instalacja na Linuxie jest trudna i można względnie łatwo zepsuć sobie system, ale jeżeli chcesz spróbować, to [ten tutorial](https://www.youtube.com/results?search_query=nvidia+cuda+install+ubuntu+20.04) jest bardzo dobry."
   ]
  },
  {
   "cell_type": "code",
   "execution_count": 221,
   "metadata": {},
   "outputs": [],
   "source": [
    "# for conda users\n",
    "# !conda install -y matplotlib pandas pytorch torchvision torchaudio -c pytorch -c conda-forge"
   ]
  },
  {
   "cell_type": "markdown",
=======
   "cells": [
      {
         "cell_type": "markdown",
         "metadata": {},
         "source": [
            "# Sieci neuronowe"
         ],
         "outputs": []
      },
      {
         "cell_type": "markdown",
         "metadata": {},
         "source": [
            "## Wstęp\n",
            "\n",
            "Celem laboratorium jest zapoznanie się z podstawami sieci neuronowych oraz uczeniem głębokim (*deep learning*). Zapoznasz się na nim z następującymi tematami:\n",
            "- treningiem prostych sieci neuronowych, w szczególności z:\n",
            "  - regresją liniową w sieciach neuronowych\n",
            "  - optymalizacją funkcji kosztu\n",
            "  - algorytmem spadku wzdłuż gradientu\n",
            "  - siecią typu Multilayer Perceptron (MLP)\n",
            "- frameworkiem PyTorch, w szczególności z:\n",
            "  - ładowaniem danych\n",
            "  - preprocessingiem danych\n",
            "  - pisaniem pętli treningowej i walidacyjnej\n",
            "  - walidacją modeli\n",
            "- architekturą i hiperaprametrami sieci MLP, w szczególności z:\n",
            "  - warstwami gęstymi (w pełni połączonymi)\n",
            "  - funkcjami aktywacji\n",
            "  - regularyzacją: L2, dropout"
         ],
         "outputs": []
      },
      {
         "cell_type": "markdown",
         "metadata": {},
         "source": [
            "## Wykorzystywane biblioteki\n",
            "\n",
            "Zaczniemy od pisania ręcznie prostych sieci w bibliotece Numpy, służącej do obliczeń numerycznych na CPU. Później przejdziemy do wykorzystywania frameworka PyTorch, służącego do obliczeń numerycznych na CPU, GPU oraz automatycznego różniczkowania, wykorzystywanego głównie do treningu sieci neuronowych.\n",
            "\n",
            "Wykorzystamy PyTorcha ze względu na popularność, łatwość instalacji i użycia, oraz dużą kontrolę nad niskopoziomowymi aspektami budowy i treningu sieci neuronowych. Framework ten został stworzony do zastosowań badawczych i naukowych, ale ze względu na wygodę użycia stał się bardzo popularny także w przemyśle. W szczególności całkowicie zdominował przetwarzanie języka naturalnego (NLP) oraz uczenie na grafach.\n",
            "\n",
            "Pierwszy duży framework do deep learningu, oraz obecnie najpopularniejszy, to TensorFlow, wraz z wysokopoziomową nakładką Keras. Są jednak szanse, że Google (autorzy) będzie go powoli porzucać na rzecz ich nowego frameworka JAX ([dyskusja](https://www.reddit.com/r/MachineLearning/comments/vfl57t/d_google_quietly_moving_its_products_from/), [artykuł Business Insidera](https://www.businessinsider.com/facebook-pytorch-beat-google-tensorflow-jax-meta-ai-2022-6?IR=T)), który jest bardzo świeżym, ale ciekawym narzędziem.\n",
            "\n",
            "Trzecia, ale znacznie mniej popularna od powyższych opcja to Apache MXNet."
         ],
         "outputs": []
      },
      {
         "cell_type": "markdown",
         "metadata": {},
         "source": [
            "## Konfiguracja własnego komputera\n",
            "\n",
            "Jeżeli korzystasz z własnego komputera, to musisz zainstalować trochę więcej bibliotek (Google Colab ma je już zainstalowane).\n",
            "\n",
            "Jeżeli nie masz GPU lub nie chcesz z niego korzystać, to wystarczy znaleźć odpowiednią komendę CPU [na stronie PyTorcha](https://pytorch.org/get-started/locally/). Dla Anacondy odpowiednia komenda została podana poniżej, dla pip'a znajdź ją na stronie.\n",
            "\n",
            "Jeżeli chcesz korzystać ze wsparcia GPU (na tym laboratorium nie będzie potrzebne, na kolejnych może przyspieszyć nieco obliczenia), to musi być to odpowiednio nowa karta NVidii, mająca CUDA compatibility ([lista](https://developer.nvidia.com/cuda-gpus)). Poza PyTorchem będzie potrzebne narzędzie NVidia CUDA w wersji 11.6 lub 11.7. Instalacja na Windowsie jest bardzo prosta (wystarczy ściągnąć plik EXE i zainstalować jak każdy inny program). Instalacja na Linuxie jest trudna i można względnie łatwo zepsuć sobie system, ale jeżeli chcesz spróbować, to [ten tutorial](https://www.youtube.com/results?search_query=nvidia+cuda+install+ubuntu+20.04) jest bardzo dobry."
         ],
         "outputs": []
      },
      {
         "cell_type": "code",
         "execution_count": null,
         "metadata": {},
         "outputs": [],
         "source": [
            "# for conda users\n",
            "!conda install -y matplotlib pandas pytorch torchvision -c pytorch -c conda-forge"
         ]
      },
      {
         "cell_type": "markdown",
         "metadata": {
            "id": "Othm3C2lLAsj"
         },
         "source": [
            "## Wprowadzenie\n",
            "\n",
            "Zanim zaczniemy naszą przygodę z sieciami neuronowymi, przyjrzyjmy się prostemu przykładowi regresji liniowej na syntetycznych danych:"
         ],
         "outputs": []
      },
      {
         "cell_type": "code",
         "execution_count": 2,
         "metadata": {
            "id": "rnJsfxbnLAsj"
         },
         "outputs": [],
         "source": [
            "from typing import Tuple, Dict\n",
            "\n",
            "import numpy as np\n",
            "import matplotlib.pyplot as plt"
         ]
      },
      {
         "cell_type": "code",
         "execution_count": 3,
         "metadata": {
            "colab": {
               "base_uri": "https://localhost:8080/",
               "height": 282
            },
            "id": "EaYpEXzBLAsl",
            "outputId": "2f8d2922-72f0-4d38-8548-d1262adf522e"
         },
         "outputs": [],
         "source": [
            "np.random.seed(0)\n",
            "\n",
            "x = np.linspace(0, 1, 100)\n",
            "y = x + np.random.normal(scale=0.1, size=x.shape)\n",
            "\n",
            "plt.scatter(x, y)"
         ]
      },
      {
         "cell_type": "markdown",
         "metadata": {
            "id": "PEM_-yKELAsl"
         },
         "source": [
            "W przeciwieństwie do laboratorium 1, tym razem będziemy chcieli rozwiązać ten problem własnoręcznie, bez użycia wysokopoziomowego interfejsu Scikit-learn'a. W tym celu musimy sobie przypomnieć sformułowanie naszego **problemu optymalizacyjnego (optimization problem)**.\n",
            "\n",
            "W przypadku prostej regresji liniowej (1 zmienna) mamy model postaci $\\hat{y} = \\alpha x + \\beta$, z dwoma parametrami, których będziemy się uczyć. Miarą niedopasowania modelu o danych parametrach jest **funkcja kosztu (cost function)**, nazywana też funkcją celu. Najczęściej używa się **błędu średniokwadratowego (mean squared error, MSE)**:\n",
            "$$\\large\n",
            "MSE = \\frac{1}{N} \\sum_{i}^{N} (y - \\hat{y})^2\n",
            "$$\n",
            "\n",
            "Od jakich $\\alpha$ i $\\beta$ zacząć? W najprostszym wypadku wystarczy po prostu je wylosować jako niewielkie liczby zmiennoprzecinkowe.\n",
            "\n",
            "#### Zadanie 1 (0.5 punkt)\n",
            "\n",
            "Uzupełnij kod funkcji `mse`, obliczającej błąd średniokwadratowy. Wykorzystaj Numpy'a w celu wektoryzacji obliczeń dla wydajności."
         ],
         "outputs": []
      },
      {
         "cell_type": "code",
         "execution_count": 4,
         "metadata": {
            "colab": {
               "base_uri": "https://localhost:8080/"
            },
            "id": "RaA7Q46TLAsm",
            "outputId": "5c57fe58-1934-4d21-9a7b-d14e9a23140b"
         },
         "outputs": [],
         "source": [
            "def mse(y: np.ndarray, y_hat: np.ndarray) -> float:\n",
            "    # implement me!\n",
            "    # your_code\n"
         ]
      },
      {
         "cell_type": "code",
         "execution_count": 5,
         "metadata": {
            "colab": {
               "base_uri": "https://localhost:8080/",
               "height": 282
            },
            "id": "qSGfamGbLAsm",
            "outputId": "733ce15f-ae75-466b-e7ee-eb3c9d9d534c"
         },
         "outputs": [],
         "source": [
            "a = np.random.rand()\n",
            "b = np.random.rand()\n",
            "print(f\"MSE: {mse(y, a * x + b):.3f}\")\n",
            "\n",
            "plt.scatter(x, y)\n",
            "plt.plot(x, a * x + b, color=\"g\", linewidth=4)"
         ]
      },
      {
         "cell_type": "markdown",
         "metadata": {
            "id": "Y--E9Mp9LAsn"
         },
         "source": [
            "Losowe parametry radzą sobie nie najlepiej. Jak lepiej dopasować naszą prostą do danych? Zawsze możemy starać się wyprowadzić rozwiązanie analitycznie, i w tym wypadku nawet nam się uda. Jest to jednak szczególny i dość rzadki przypadek, a w szczególności nie będzie to możliwe w większych sieciach neuronowych.\n",
            "\n",
            "Potrzebna nam będzie **metoda optymalizacji (optimization method)**, dającą wartości parametrów minimalizujące dowolną różniczkowalną funkcję kosztu. Zdecydowanie najpopularniejszy jest tutaj **spadek wzdłuż gradientu (gradient descent)**.\n",
            "\n",
            "Metoda ta wywodzi się z prostych obserwacji, które tutaj przedstawimy. Bardziej szczegółowe rozwinięcie dla zainteresowanych: [sekcja 4.3 \"Deep Learning Book\"](https://www.deeplearningbook.org/contents/numerical.html), [ten praktyczny kurs](https://cs231n.github.io/optimization-1/), [analiza oryginalnej publikacji Cauchy'ego](https://www.math.uni-bielefeld.de/documenta/vol-ismp/40_lemarechal-claude.pdf) (oryginał w języku francuskim).\n",
            "\n",
            "Pochodna jest dokładnie równa granicy funkcji. Dla małego $\\epsilon$ można ją przybliżyć jako:\n",
            "$$\\large\n",
            "\\frac{f(x)}{dx} \\approx \\frac{f(x+\\epsilon) - f(x)}{\\epsilon}\n",
            "$$\n",
            "\n",
            "Przyglądając się temu równaniu widzimy, że: \n",
            "* dla funkcji rosnącej ($f(x+\\epsilon) > f(x)$) wyrażenie $\\frac{f(x)}{dx}$ będzie miało znak dodatni \n",
            "* dla funkcji malejącej ($f(x+\\epsilon) < f(x)$) wyrażenie $\\frac{f(x)}{dx}$ będzie miało znak ujemny \n",
            "\n",
            "Widzimy więc, że potrafimy wskazać kierunek zmniejszenia wartości funkcji, patrząc na znak pochodnej. Zaobserwowano także, że amplituda wartości w $\\frac{f(x)}{dx}$ jest tym większa, im dalej jesteśmy od minimum (maximum). Pochodna wyznacza więc, w jakim kierunku funkcja najszybciej rośnie, zaś przeciwny zwrot to ten, w którym funkcja najszybciej spada.\n",
            "\n",
            "Stosując powyższe do optymalizacji, mamy:\n",
            "$$\\large\n",
            "x_{t+1} = x_{t} -  \\alpha * \\frac{f(x)}{dx}\n",
            "$$\n",
            "\n",
            "$\\alpha$ to niewielka wartość (rzędu zwykle $10^{-5}$ - $10^{-2}$), wprowadzona, aby trzymać się założenia o małej zmianie parametrów ($\\epsilon$). Nazywa się ją **stałą uczącą (learning rate)** i jest zwykle najważniejszym hiperparametrem podczas nauki sieci.\n",
            "\n",
            "Metoda ta zakłada, że używamy całego zbioru danych do aktualizacji parametrów w każdym kroku, co nazywa się po prostu GD (od *gradient descent*) albo *full batch GD*. Wtedy każdy krok optymalizacji nazywa się **epoką (epoch)**.\n",
            "\n",
            "Im większa stała ucząca, tym większe nasze kroki podczas minimalizacji. Możemy więc uczyć szybciej, ale istnieje ryzyko, że będziemy \"przeskakiwać\" minima. Mniejsza stała ucząca to wolniejszy, ale dokładniejszy trening. Jednak nie zawsze ona pozwala osiągnąć lepsze wyniki, bo może okazać się, że utkniemy w minimum lokalnym. Można także zmieniać stałą uczącą podczas treningu, co nazywa się **learning rate scheduling (LR scheduling)**. Obrazowo:\n",
            "\n",
            "![learning_rate](http://www.bdhammel.com/assets/learning-rate/lr-types.png)"
         ],
         "outputs": []
      },
      {
         "cell_type": "markdown",
         "metadata": {
            "id": "496qEjkVLAso"
         },
         "source": [
            "![interactive LR](http://cdn-images-1.medium.com/max/640/1*eeIvlwkMNG1wSmj3FR6M2g.gif)"
         ],
         "outputs": []
      },
      {
         "cell_type": "markdown",
         "metadata": {
            "id": "RYkyAHKzLAsp"
         },
         "source": [
            "Policzmy więc pochodną dla naszej funkcji kosztu MSE. Pochodną liczymy po parametrach naszego modelu, bo to właśnie ich chcemy dopasować tak, żeby koszt był jak najmniejszy:\n",
            "\n",
            "$$\\large\n",
            "MSE = \\frac{1}{N} \\sum_{i}^{N} (y_i - \\hat{y_i})^2\n",
            "$$\n",
            "\n",
            "W powyższym wzorze tylko $y_i$ jest zależny od $a$ oraz $b$. Możemy wykorzystać tu regułę łańcuchową (*chain rule*) i policzyć pochodne po naszych parametrach w sposób następujący:\n",
            "\n",
            "$$\\large\n",
            "\\frac{\\text{d} MSE}{\\text{d} a} = \\frac{1}{N} \\sum_{i}^{N} \\frac{\\text{d} (y_i - \\hat{y_i})^2}{\\text{d} \\hat{y_i}} \\frac{\\text{d} \\hat{y_i}}{\\text{d} a}\n",
            "$$\n",
            "\n",
            "$$\\large\n",
            "\\frac{\\text{d} MSE}{\\text{d} b} = \\frac{1}{N} \\sum_{i}^{N} \\frac{\\text{d} (y_i - \\hat{y_i})^2}{\\text{d} \\hat{y_i}} \\frac{\\text{d} \\hat{y_i}}{\\text{d} b}\n",
            "$$\n",
            "\n",
            "Policzmy te pochodne po kolei:\n",
            "\n",
            "$$\\large\n",
            "\\frac{\\text{d} (y_i - \\hat{y_i})^2}{\\text{d} \\hat{y_i}} = -2 \\cdot (y_i - \\hat{y_i})\n",
            "$$\n",
            "\n",
            "$$\\large\n",
            "\\frac{\\text{d} \\hat{y_i}}{\\text{d} a} = x_i\n",
            "$$\n",
            "\n",
            "$$\\large\n",
            "\\frac{\\text{d} \\hat{y_i}}{\\text{d} b} = 1\n",
            "$$\n",
            "\n",
            "Łącząc powyższe wyniki dostaniemy:\n",
            "\n",
            "$$\\large\n",
            "\\frac{\\text{d} MSE}{\\text{d} a} = \\frac{-2}{N} \\sum_{i}^{N} (y_i - \\hat{y_i}) \\cdot {x_i}\n",
            "$$\n",
            "\n",
            "$$\\large\n",
            "\\frac{\\text{d} MSE}{\\text{d} b} = \\frac{-2}{N} \\sum_{i}^{N} (y_i - \\hat{y_i})\n",
            "$$\n",
            "\n",
            "Aktualizacja parametrów wygląda tak:\n",
            "\n",
            "$$\\large\n",
            "a' = a - \\alpha * \\left( \\frac{-2}{N} \\sum_{i=1}^N (y_i - \\hat{y}_i) \\cdot x_i \\right)\n",
            "$$\n",
            "$$\\large\n",
            "b' = b - \\alpha * \\left( \\frac{-2}{N} \\sum_{i=1}^N (y_i - \\hat{y}_i) \\right)\n",
            "$$\n",
            "\n",
            "Liczymy więc pochodną funkcji kosztu, a potem za pomocą reguły łańcuchowej \"cofamy się\", dochodząc do tego, jak każdy z parametrów wpływa na błąd i w jaki sposób powinniśmy go zmienić. Nazywa się to **propagacją wsteczną (backpropagation)** i jest podstawowym mechanizmem umożliwiającym naukę sieci neuronowych za pomocą spadku wzdłuż gradientu. Więcej możesz o tym przeczytać [tutaj](https://cs231n.github.io/optimization-2/)."
         ],
         "outputs": []
      },
      {
         "cell_type": "markdown",
         "metadata": {},
         "source": [
            "\n",
            "#### Zadanie 2 (1.5 punkty)\n",
            "\n",
            "Zaimplementuj funkcję realizującą jedną epokę treningową. Zauważ, że `x` oraz `y` są wektorami. Oblicz predykcję przy aktualnych parametrach oraz zaktualizuj je zgodnie z powyższymi wzorami."
         ],
         "outputs": []
      },
      {
         "cell_type": "code",
         "execution_count": 6,
         "metadata": {
            "colab": {
               "base_uri": "https://localhost:8080/"
            },
            "id": "4qbdWOSULAsp",
            "outputId": "055607ae-87aa-470a-e6da-25682c82d470"
         },
         "outputs": [],
         "source": [
            "def optimize(\n",
            "    x: np.ndarray, y: np.ndarray, a: float, b: float, learning_rate: float = 0.1\n",
            "):\n",
            "    y_hat = a * x + b\n",
            "    errors = y - y_hat\n",
            "    # implement me!\n",
            "    # your_code\n"
         ]
      },
      {
         "cell_type": "code",
         "execution_count": 7,
         "metadata": {},
         "outputs": [],
         "source": [
            "for i in range(1000):\n",
            "    loss = mse(y, a * x + b)\n",
            "    a, b = optimize(x, y, a, b)\n",
            "    if i % 100 == 0:\n",
            "        print(f\"step {i} loss: \", loss)\n",
            "\n",
            "print(\"final loss:\", loss)"
         ]
      },
      {
         "cell_type": "code",
         "execution_count": 8,
         "metadata": {
            "colab": {
               "base_uri": "https://localhost:8080/",
               "height": 282
            },
            "id": "xOgRcPC1LAsq",
            "outputId": "85b0b3e4-aa0d-467a-d8ff-5f01be17b243",
            "scrolled": false
         },
         "outputs": [],
         "source": [
            "plt.scatter(x, y)\n",
            "plt.plot(x, a * x + b, color=\"g\", linewidth=4)"
         ]
      },
      {
         "cell_type": "markdown",
         "metadata": {
            "id": "vOr2fWYpLAsq"
         },
         "source": [
            "Udało ci się wytrenować swoją pierwszą sieć neuronową. Czemu? Otóż neuron to po prostu wektor parametrów, a zwykle robimy iloczyn skalarny tych parametrów z wejściem. Dodatkowo na wyjście nakłada się **funkcję aktywacji (activation function)**, która przekształca wyjście. Tutaj takiej nie było, a właściwie była to po prostu funkcja identyczności.\n",
            "\n",
            "Oczywiście w praktyce korzystamy z odpowiedniego frameworka, który w szczególności:\n",
            "- ułatwia budowanie sieci, np. ma gotowe klasy dla warstw neuronów\n",
            "- ma zaimplementowane funkcje kosztu oraz ich pochodne\n",
            "- sam różniczkuje ze względu na odpowiednie parametry i aktualizuje je odpowiednio podczas treningu\n"
         ],
         "outputs": []
      },
      {
         "cell_type": "markdown",
         "metadata": {
            "id": "NJBYJabuLAsr"
         },
         "source": [
            "## Wprowadzenie do PyTorcha"
         ],
         "outputs": []
      },
      {
         "cell_type": "markdown",
         "metadata": {
            "id": "EB-99XqhLAsr"
         },
         "source": [
            "PyTorch to w gruncie rzeczy narzędzie do algebry liniowej z [automatycznym rożniczkowaniem](https://pytorch.org/tutorials/beginner/blitz/autograd_tutorial.html), z możliwością przyspieszenia obliczeń z pomocą GPU. Na tych fundamentach zbudowany jest pełny framework do uczenia głębokiego. Można spotkać się ze stwierdzenie, że PyTorch to NumPy + GPU + opcjonalne różniczkowanie, co jest całkiem celne. Plus można łatwo debugować printem :)\n",
            "\n",
            "PyTorch używa dynamicznego grafu obliczeń, który sami definiujemy w kodzie. Takie podejście jest bardzo wygodne, elastyczne i pozwala na łatwe eksperymentowanie. Odbywa się to potencjalnie kosztem wydajności, ponieważ pozostawia kwestię optymalizacji programiście. Więcej na ten temat dla zainteresowanych na końcu laboratorium.\n",
            "\n",
            "Samo API PyTorcha bardzo przypomina Numpy'a, a podstawowym obiektem jest `Tensor`, klasa reprezentująca tensory dowolnego wymiaru. Dodatkowo niektóre tensory będą miały automatycznie obliczony gradient. Co ważne, tensor jest na pewnym urządzeniu, CPU lub GPU, a przenosić między nimi trzeba explicite.\n",
            "\n",
            "Najważniejsze moduły:\n",
            "- `torch` - podstawowe klasy oraz funkcje, np. `Tensor`, `from_numpy()`\n",
            "- `torch.nn` - klasy związane z sieciami neuronowymi, np. `Linear`, `Sigmoid`\n",
            "- `torch.optim` - wszystko związane z optymalizacją, głównie spadkiem wzdłuż gradientu"
         ],
         "outputs": []
      },
      {
         "cell_type": "code",
         "execution_count": 9,
         "metadata": {
            "id": "FwuIt8S-LAss"
         },
         "outputs": [],
         "source": [
            "import torch\n",
            "import torch.nn as nn\n",
            "import torch.optim as optim"
         ]
      },
      {
         "cell_type": "code",
         "execution_count": 10,
         "metadata": {
            "colab": {
               "base_uri": "https://localhost:8080/"
            },
            "id": "bfCiUFXULAss",
            "outputId": "83f6231d-ecc4-461a-b758-fdc4bc2a88a4"
         },
         "outputs": [],
         "source": [
            "ones = torch.ones(10)\n",
            "noise = torch.ones(10) * torch.rand(10)\n",
            "\n",
            "# elementwise sum\n",
            "print(ones + noise)\n",
            "\n",
            "# elementwise multiplication\n",
            "print(ones * noise)\n",
            "\n",
            "# dot product\n",
            "print(ones @ noise)"
         ]
      },
      {
         "cell_type": "code",
         "execution_count": 11,
         "metadata": {
            "id": "ynNd_kD0LAst"
         },
         "outputs": [],
         "source": [
            "# beware - shares memory with original Numpy array!\n",
            "# very fast, but modifications are visible to original variable\n",
            "x = torch.from_numpy(x)\n",
            "y = torch.from_numpy(y)"
         ]
      },
      {
         "cell_type": "markdown",
         "metadata": {
            "id": "W9kkxczELAsu"
         },
         "source": [
            "Jeżeli dla stworzonych przez nas tensorów chcemy śledzić operacje i obliczać gradient, to musimy oznaczyć `requires_grad=True`."
         ],
         "outputs": []
      },
      {
         "cell_type": "code",
         "execution_count": 12,
         "metadata": {
            "colab": {
               "base_uri": "https://localhost:8080/"
            },
            "id": "8HtZL-KfLAsu",
            "outputId": "47c6d930-5678-452a-95bc-227935138b40"
         },
         "outputs": [],
         "source": [
            "a = torch.rand(1, requires_grad=True)\n",
            "b = torch.rand(1, requires_grad=True)\n",
            "a, b"
         ]
      },
      {
         "cell_type": "markdown",
         "metadata": {
            "id": "Nl1guWZ_LAsv"
         },
         "source": [
            "PyTorch zawiera większość powszechnie używanych funkcji kosztu, np. MSE. Mogą być one używane na 2 sposoby, z czego pierwszy jest popularniejszy:\n",
            "- jako klasy wywoływalne z modułu `torch.nn`\n",
            "- jako funkcje z modułu `torch.nn.functional`\n",
            "\n",
            "Po wykonaniu poniższego kodu widzimy, że zwraca on nam tensor z dodatkowymi atrybutami. Co ważne, jest to skalar (0-wymiarowy tensor), bo potrzebujemy zwyczajnej liczby do obliczania propagacji wstecznych (pochodnych czątkowych)."
         ],
         "outputs": []
      },
      {
         "cell_type": "code",
         "execution_count": 13,
         "metadata": {},
         "outputs": [],
         "source": [
            "mse = nn.MSELoss()\n",
            "mse(y, a * x + b)"
         ]
      },
      {
         "cell_type": "markdown",
         "metadata": {
            "id": "vS35r49nLAsw"
         },
         "source": [
            "Atrybutu `grad_fn` nie używamy wprost, bo korzysta z niego w środku PyTorch, ale widać, że tensor jest \"świadomy\", że liczy się na nim pochodną. Możemy natomiast skorzystać z atrybutu `grad`, który zawiera faktyczny gradient. Zanim go jednak dostaniemy, to trzeba powiedzieć PyTorchowi, żeby policzył gradient. Służy do tego metoda `.backward()`, wywoływana na obiekcie zwracanym przez funkcję kosztu."
         ],
         "outputs": []
      },
      {
         "cell_type": "code",
         "execution_count": 14,
         "metadata": {
            "id": "Qb7l6Xg1LAsx"
         },
         "outputs": [],
         "source": [
            "loss = mse(y, a * x + b)\n",
            "loss.backward()"
         ]
      },
      {
         "cell_type": "code",
         "execution_count": 15,
         "metadata": {
            "colab": {
               "base_uri": "https://localhost:8080/"
            },
            "id": "6LfQbLVoLAsx",
            "outputId": "d5b87fb7-d284-423c-f467-b677384b2f67"
         },
         "outputs": [],
         "source": [
            "print(a.grad)"
         ]
      },
      {
         "cell_type": "markdown",
         "metadata": {
            "id": "Kdf1iweELAsy"
         },
         "source": [
            "Ważne jest, że PyTorch nie liczy za każdym razem nowego gradientu, tylko dodaje go do istniejącego, czyli go akumuluje. Jest to przydatne w niektórych sieciach neuronowych, ale zazwyczaj trzeba go zerować. Jeżeli tego nie zrobimy, to dostaniemy coraz większe gradienty.\n",
            "\n",
            "Do zerowania służy metoda `.zero_()`. W PyTorchu wszystkie metody modyfikujące tensor w miejscu mają `_` na końcu nazwy. Jest to dość niskopoziomowa operacja dla pojedynczych tensorów - zobaczymy za chwilę, jak to robić łatwiej dla całej sieci."
         ],
         "outputs": []
      },
      {
         "cell_type": "code",
         "execution_count": 16,
         "metadata": {
            "colab": {
               "base_uri": "https://localhost:8080/"
            },
            "id": "DiCQZKJsLAsy",
            "outputId": "2f779622-480d-43fc-b9d0-a0e36ff4b28b"
         },
         "outputs": [],
         "source": [
            "loss = mse(y, a * x + b)\n",
            "loss.backward()\n",
            "a.grad"
         ]
      },
      {
         "cell_type": "markdown",
         "metadata": {
            "id": "xNC3Ag8uLAsz"
         },
         "source": [
            "Zobaczmy, jak wyglądałaby regresja liniowa, ale napisana w PyTorchu. Jest to oczywiście bardzo niskopoziomowa implementacja - za chwilę zobaczymy, jak to wygląda w praktyce."
         ],
         "outputs": []
      },
      {
         "cell_type": "code",
         "execution_count": 17,
         "metadata": {
            "colab": {
               "base_uri": "https://localhost:8080/"
            },
            "id": "AKnxyeboLAsz",
            "outputId": "2f939474-901a-4773-9704-686a40ae6e8e"
         },
         "outputs": [],
         "source": [
            "learning_rate = 0.1\n",
            "for i in range(1000):\n",
            "    loss = mse(y, a * x + b)\n",
            "\n",
            "    # compute gradients\n",
            "    loss.backward()\n",
            "\n",
            "    # update parameters\n",
            "    a.data -= learning_rate * a.grad\n",
            "    b.data -= learning_rate * b.grad\n",
            "\n",
            "    # zero gradients\n",
            "    a.grad.data.zero_()\n",
            "    b.grad.data.zero_()\n",
            "\n",
            "    if i % 100 == 0:\n",
            "        print(f\"step {i} loss: \", loss)\n",
            "\n",
            "print(\"final loss:\", loss)"
         ]
      },
      {
         "cell_type": "markdown",
         "metadata": {
            "id": "2DXNVhshmmI-"
         },
         "source": [
            "Trening modeli w PyTorchu jest dosyć schematyczny i najczęściej rozdziela się go na kilka bloków, dających razem **pętlę uczącą (training loop)**, powtarzaną w każdej epoce:\n",
            "1. Forward pass - obliczenie predykcji sieci\n",
            "2. Loss calculation\n",
            "3. Backpropagation - obliczenie pochodnych oraz zerowanie gradientów\n",
            "4. Optimalization - aktualizacja wag\n",
            "5. Other - ewaluacja na zbiorze walidacyjnym, logging etc."
         ],
         "outputs": []
      },
      {
         "cell_type": "code",
         "execution_count": 18,
         "metadata": {
            "colab": {
               "base_uri": "https://localhost:8080/"
            },
            "id": "2etpw7TNLAs0",
            "outputId": "8ac35c12-6c70-41ec-bf57-414456fc3c96",
            "scrolled": true
         },
         "outputs": [],
         "source": [
            "# initialization\n",
            "learning_rate = 0.1\n",
            "a = torch.rand(1, requires_grad=True)\n",
            "b = torch.rand(1, requires_grad=True)\n",
            "optimizer = torch.optim.SGD([a, b], lr=learning_rate)\n",
            "best_loss = float(\"inf\")\n",
            "\n",
            "# training loop in each epoch\n",
            "for i in range(1000):\n",
            "    # forward pass\n",
            "    y_hat = a * x + b\n",
            "\n",
            "    # loss calculation\n",
            "    loss = mse(y, y_hat)\n",
            "\n",
            "    # backpropagation\n",
            "    loss.backward()\n",
            "\n",
            "    # optimization\n",
            "    optimizer.step()\n",
            "    optimizer.zero_grad()  # zeroes all gradients - very convenient!\n",
            "\n",
            "    if i % 100 == 0:\n",
            "        if loss < best_loss:\n",
            "            best_model = (a.clone(), b.clone())\n",
            "            best_loss = loss\n",
            "        print(f\"step {i} loss: {loss.item():.4f}\")\n",
            "\n",
            "print(\"final loss:\", loss)"
         ]
      },
      {
         "cell_type": "markdown",
         "metadata": {},
         "source": [
            "Przejdziemy teraz do budowy sieci neuronowej do klasyfikacji. Typowo implementuje się ją po prostu jako sieć dla regresji, ale zwracającą tyle wyników, ile mamy klas, a potem aplikuje się na tym funkcję sigmoidalną (2 klasy) lub softmax (>2 klasy). W przypadku klasyfikacji binarnej zwraca się czasem tylko 1 wartość, przepuszczaną przez sigmoidę - wtedy wyjście z sieci to prawdopodobieństwo klasy pozytywnej.\n",
            "\n",
            "Funkcją kosztu zwykle jest **entropia krzyżowa (cross-entropy)**, stosowana też w klasycznej regresji logistycznej. Co ważne, sieci neuronowe, nawet tak proste, uczą się szybciej i stabilniej, gdy dane na wejściu (a przynajmniej zmienne numeryczne) są **ustandaryzowane (standardized)**. Operacja ta polega na odjęciu średniej i podzieleniu przez odchylenie standardowe (tzw. *Z-score transformation*).\n",
            "\n",
            "**Uwaga - PyTorch wymaga tensora klas będącego liczbami zmiennoprzecinkowymi!**"
         ],
         "outputs": []
      },
      {
         "cell_type": "markdown",
         "metadata": {},
         "source": [
            "## Zbiór danych"
         ],
         "outputs": []
      },
      {
         "cell_type": "markdown",
         "metadata": {},
         "source": [
            "Na tym laboratorium wykorzystamy zbiór [Adult Census](https://archive.ics.uci.edu/ml/datasets/adult). Dotyczy on przewidywania na podstawie danych demograficznych, czy dany człowiek zarabia powyżej 50 tysięcy dolarów rocznie, czy też mniej. Jest to cenna informacja np. przy planowaniu kampanii marketingowych. Jak możesz się domyślić, zbiór pochodzi z czasów, kiedy inflacja była dużo niższa :)\n",
            "\n",
            "Poniżej znajduje się kod do ściągnięcia i preprocessingu zbioru. Nie musisz go dokładnie analizować."
         ],
         "outputs": []
      },
      {
         "cell_type": "code",
         "execution_count": 19,
         "metadata": {
            "colab": {
               "base_uri": "https://localhost:8080/"
            },
            "id": "4DNsaZAnLAs0",
            "outputId": "70822008-530d-4173-deb9-8149a9fe5b41",
            "scrolled": true
         },
         "outputs": [],
         "source": [
            "!wget https://archive.ics.uci.edu/ml/machine-learning-databases/adult/adult.data"
         ]
      },
      {
         "cell_type": "code",
         "execution_count": 20,
         "metadata": {},
         "outputs": [],
         "source": [
            "import pandas as pd\n",
            "\n",
            "\n",
            "columns = [\n",
            "    \"age\",\n",
            "    \"workclass\",\n",
            "    \"fnlwgt\",\n",
            "    \"education\",\n",
            "    \"education-num\",\n",
            "    \"marital-status\",\n",
            "    \"occupation\",\n",
            "    \"relationship\",\n",
            "    \"race\",\n",
            "    \"sex\",\n",
            "    \"capital-gain\",\n",
            "    \"capital-loss\",\n",
            "    \"hours-per-week\",\n",
            "    \"native-country\",\n",
            "    \"wage\"\n",
            "]\n",
            "\n",
            "\"\"\"\n",
            "age: continuous.\n",
            "workclass: Private, Self-emp-not-inc, Self-emp-inc, Federal-gov, Local-gov, State-gov, Without-pay, Never-worked.\n",
            "fnlwgt: continuous.\n",
            "education: Bachelors, Some-college, 11th, HS-grad, Prof-school, Assoc-acdm, Assoc-voc, 9th, 7th-8th, 12th, Masters, 1st-4th, 10th, Doctorate, 5th-6th, Preschool.\n",
            "education-num: continuous.\n",
            "marital-status: Married-civ-spouse, Divorced, Never-married, Separated, Widowed, Married-spouse-absent, Married-AF-spouse.\n",
            "occupation: Tech-support, Craft-repair, Other-service, Sales, Exec-managerial, Prof-specialty, Handlers-cleaners, Machine-op-inspct, Adm-clerical, Farming-fishing, Transport-moving, Priv-house-serv, Protective-serv, Armed-Forces.\n",
            "relationship: Wife, Own-child, Husband, Not-in-family, Other-relative, Unmarried.\n",
            "race: White, Asian-Pac-Islander, Amer-Indian-Eskimo, Other, Black.\n",
            "sex: Female, Male.\n",
            "capital-gain: continuous.\n",
            "capital-loss: continuous.\n",
            "hours-per-week: continuous.\n",
            "native-country: United-States, Cambodia, England, Puerto-Rico, Canada, Germany, Outlying-US(Guam-USVI-etc), India, Japan, Greece, South, China, Cuba, Iran, Honduras, Philippines, Italy, Poland, Jamaica, Vietnam, Mexico, Portugal, Ireland, France, Dominican-Republic, Laos, Ecuador, Taiwan, Haiti, Columbia, Hungary, Guatemala, Nicaragua, Scotland, Thailand, Yugoslavia, El-Salvador, Trinadad&Tobago, Peru, Hong, Holand-Netherlands.\n",
            "\"\"\"\n",
            "\n",
            "df = pd.read_csv(\"adult.data\", header=None, names=columns)\n",
            "df.wage.unique()"
         ]
      },
      {
         "cell_type": "code",
         "execution_count": 21,
         "metadata": {},
         "outputs": [],
         "source": [
            "# attribution: https://www.kaggle.com/code/royshih23/topic7-classification-in-python\n",
            "df['education'].replace('Preschool', 'dropout',inplace=True)\n",
            "df['education'].replace('10th', 'dropout',inplace=True)\n",
            "df['education'].replace('11th', 'dropout',inplace=True)\n",
            "df['education'].replace('12th', 'dropout',inplace=True)\n",
            "df['education'].replace('1st-4th', 'dropout',inplace=True)\n",
            "df['education'].replace('5th-6th', 'dropout',inplace=True)\n",
            "df['education'].replace('7th-8th', 'dropout',inplace=True)\n",
            "df['education'].replace('9th', 'dropout',inplace=True)\n",
            "df['education'].replace('HS-Grad', 'HighGrad',inplace=True)\n",
            "df['education'].replace('HS-grad', 'HighGrad',inplace=True)\n",
            "df['education'].replace('Some-college', 'CommunityCollege',inplace=True)\n",
            "df['education'].replace('Assoc-acdm', 'CommunityCollege',inplace=True)\n",
            "df['education'].replace('Assoc-voc', 'CommunityCollege',inplace=True)\n",
            "df['education'].replace('Bachelors', 'Bachelors',inplace=True)\n",
            "df['education'].replace('Masters', 'Masters',inplace=True)\n",
            "df['education'].replace('Prof-school', 'Masters',inplace=True)\n",
            "df['education'].replace('Doctorate', 'Doctorate',inplace=True)\n",
            "\n",
            "df['marital-status'].replace('Never-married', 'NotMarried',inplace=True)\n",
            "df['marital-status'].replace(['Married-AF-spouse'], 'Married',inplace=True)\n",
            "df['marital-status'].replace(['Married-civ-spouse'], 'Married',inplace=True)\n",
            "df['marital-status'].replace(['Married-spouse-absent'], 'NotMarried',inplace=True)\n",
            "df['marital-status'].replace(['Separated'], 'Separated',inplace=True)\n",
            "df['marital-status'].replace(['Divorced'], 'Separated',inplace=True)\n",
            "df['marital-status'].replace(['Widowed'], 'Widowed',inplace=True)"
         ]
      },
      {
         "cell_type": "code",
         "execution_count": 22,
         "metadata": {
            "colab": {
               "base_uri": "https://localhost:8080/"
            },
            "id": "LiOxs_6mLAs1",
            "outputId": "c95418cf-2632-41d0-de0a-9caf109de113",
            "scrolled": true
         },
         "outputs": [],
         "source": [
            "from sklearn.model_selection import train_test_split\n",
            "from sklearn.preprocessing import MinMaxScaler, OneHotEncoder, StandardScaler\n",
            "\n",
            "\n",
            "X = df.copy()\n",
            "y = (X.pop(\"wage\") == ' >50K').astype(int).values\n",
            "\n",
            "train_valid_size = 0.2\n",
            "\n",
            "X_train, X_test, y_train, y_test = train_test_split(\n",
            "    X, y, \n",
            "    test_size=train_valid_size, \n",
            "    random_state=0, \n",
            "    shuffle=True, \n",
            "    stratify=y\n",
            ")\n",
            "X_train, X_valid, y_train, y_valid = train_test_split(\n",
            "    X_train, y_train, \n",
            "    test_size=train_valid_size, \n",
            "    random_state=0, \n",
            "    shuffle=True, \n",
            "    stratify=y_train\n",
            ")\n",
            "\n",
            "continuous_cols = ['age', 'fnlwgt', 'education-num', 'capital-gain', 'capital-loss', 'hours-per-week']\n",
            "continuous_X_train = X_train[continuous_cols]\n",
            "categorical_X_train = X_train.loc[:, ~X_train.columns.isin(continuous_cols)]\n",
            "\n",
            "continuous_X_valid = X_valid[continuous_cols]\n",
            "categorical_X_valid = X_valid.loc[:, ~X_valid.columns.isin(continuous_cols)]\n",
            "\n",
            "continuous_X_test = X_test[continuous_cols]\n",
            "categorical_X_test = X_test.loc[:, ~X_test.columns.isin(continuous_cols)]\n",
            "\n",
            "categorical_encoder = OneHotEncoder(sparse=False, handle_unknown='ignore')\n",
            "continuous_scaler = StandardScaler() #MinMaxScaler(feature_range=(-1, 1))\n",
            "\n",
            "categorical_encoder.fit(categorical_X_train)\n",
            "continuous_scaler.fit(continuous_X_train)\n",
            "\n",
            "continuous_X_train = continuous_scaler.transform(continuous_X_train)\n",
            "continuous_X_valid = continuous_scaler.transform(continuous_X_valid)\n",
            "continuous_X_test = continuous_scaler.transform(continuous_X_test)\n",
            "\n",
            "categorical_X_train = categorical_encoder.transform(categorical_X_train)\n",
            "categorical_X_valid = categorical_encoder.transform(categorical_X_valid)\n",
            "categorical_X_test = categorical_encoder.transform(categorical_X_test)\n",
            "\n",
            "X_train = np.concatenate([continuous_X_train, categorical_X_train], axis=1)\n",
            "X_valid = np.concatenate([continuous_X_valid, categorical_X_valid], axis=1)\n",
            "X_test = np.concatenate([continuous_X_test, categorical_X_test], axis=1)\n",
            "\n",
            "X_train.shape, y_train.shape"
         ]
      },
      {
         "cell_type": "markdown",
         "metadata": {},
         "source": [
            "Uwaga co do typów - PyTorchu wszystko w sieci neuronowej musi być typu `float32`. W szczególności trzeba uważać na konwersje z Numpy'a, który używa domyślnie typu `float64`. Może ci się przydać metoda `.float()`.\n",
            "\n",
            "Uwaga co do kształtów wyjścia - wejścia do `nn.BCELoss` muszą być tego samego kształtu. Może ci się przydać metoda `.squeeze()` lub `.unsqueeze()`."
         ],
         "outputs": []
      },
      {
         "cell_type": "code",
         "execution_count": 23,
         "metadata": {
            "id": "qfRA3xEoLAs1"
         },
         "outputs": [],
         "source": [
            "X_train = torch.from_numpy(X_train).float()\n",
            "y_train = torch.from_numpy(y_train).float().unsqueeze(-1)\n",
            "\n",
            "X_valid = torch.from_numpy(X_valid).float()\n",
            "y_valid = torch.from_numpy(y_valid).float().unsqueeze(-1)\n",
            "\n",
            "X_test = torch.from_numpy(X_test).float()\n",
            "y_test = torch.from_numpy(y_test).float().unsqueeze(-1)"
         ]
      },
      {
         "cell_type": "markdown",
         "metadata": {},
         "source": [
            "Podobnie jak w laboratorium 2, mamy tu do czynienia z klasyfikacją niezbalansowaną:"
         ],
         "outputs": []
      },
      {
         "cell_type": "code",
         "execution_count": 24,
         "metadata": {},
         "outputs": [],
         "source": [
            "import matplotlib.pyplot as plt\n",
            "\n",
            "y_pos_perc = 100 * y_train.sum().item() / len(y_train)\n",
            "y_neg_perc = 100 - y_pos_perc\n",
            "\n",
            "plt.title(\"Class percentages\")\n",
            "plt.bar([\"<50k\", \">=50k\"], [y_neg_perc, y_pos_perc])\n",
            "plt.show()"
         ]
      },
      {
         "cell_type": "markdown",
         "metadata": {},
         "source": [
            "W związku z powyższym będziemy używać odpowiednich metryk, czyli AUROC, precyzji i czułości."
         ],
         "outputs": []
      },
      {
         "cell_type": "markdown",
         "metadata": {
            "id": "XLexWff-LAs0"
         },
         "source": [
            "#### Zadanie 3 (1 punkt)\n",
            "\n",
            "Zaimplementuj regresję logistyczną dla tego zbioru danych, używając PyTorcha. Dane wejściowe zostały dla ciebie przygotowane w komórkach poniżej.\n",
            "\n",
            "Sama sieć składa się z 2 elementów:\n",
            "- warstwa liniowa `nn.Linear`, przekształcająca wektor wejściowy na 1 wyjście - logit\n",
            "- aktywacja sigmoidalna `nn.Sigmoid`, przekształcająca logit na prawdopodobieństwo klasy pozytywnej\n",
            "\n",
            "Użyj binarnej entropii krzyżowej `nn.BCELoss` jako funkcji kosztu. Użyj optymalizatora SGD ze stałą uczącą `1e-3`. Trenuj przez 3000 epok. Pamiętaj, aby przekazać do optymalizatora `torch.optim.SGD` parametry sieci (metoda `.parameters()`). Dopisz logowanie kosztu raz na 100 epok."
         ],
         "outputs": []
      },
      {
         "cell_type": "code",
         "execution_count": 25,
         "metadata": {
            "colab": {
               "base_uri": "https://localhost:8080/"
            },
            "id": "NbABKz5-LAs2",
            "outputId": "086dc0f3-0184-4072-9fd3-275b60dee2e4",
            "scrolled": true
         },
         "outputs": [],
         "source": [
            "learning_rate = 1e-3\n",
            "\n",
            "model = ...\n",
            "activation = ...\n",
            "optimizer = ...\n",
            "loss_fn = ...\n",
            "\n",
            "# implement me!\n",
            "# your_code\n"
         ]
      },
      {
         "cell_type": "markdown",
         "metadata": {},
         "source": [
            "Teraz trzeba sprawdzić, jak poszło naszej sieci. W PyTorchu sieć pracuje zawsze w jednym z dwóch trybów: treningowym lub ewaluacyjnym (predykcyjnym). Ten drugi wyłącza niektóre mechanizmy, które są używane tylko podczas treningu, w szczególności regularyzację dropout. Do przełączania służą metody modelu `.train()` i `.eval()`.\n",
            "\n",
            "Dodatkowo podczas liczenia predykcji dobrze jest wyłączyć liczenie gradientów, bo nie będą potrzebne, a oszczędza to czas i pamięć. Używa się do tego menadżera kontekstu `with torch.no_grad():`."
         ],
         "outputs": []
      },
      {
         "cell_type": "code",
         "execution_count": 26,
         "metadata": {
            "colab": {
               "base_uri": "https://localhost:8080/"
            },
            "id": "zH37zDX4LAs2",
            "outputId": "b1f93309-6f04-4ffc-b0ca-08d0a32120a0",
            "scrolled": true
         },
         "outputs": [],
         "source": [
            "from sklearn.metrics import precision_recall_curve, precision_recall_fscore_support, roc_auc_score\n",
            "\n",
            "\n",
            "model.eval()\n",
            "with torch.no_grad():\n",
            "    y_score = activation(model(X_test))\n",
            "\n",
            "auroc = roc_auc_score(y_test, y_score)\n",
            "print(f\"AUROC: {100 * auroc:.2f}%\")"
         ]
      },
      {
         "cell_type": "markdown",
         "metadata": {},
         "source": [
            "Jest to całkiem dobry wynik, a może być jeszcze lepszy. Sprawdźmy dla pewności jeszcze inne metryki: precyzję, recall oraz F1-score. Dodatkowo narysujemy krzywą precision-recall, czyli jak zmieniają się te metryki w zależności od przyjętego progu (threshold) prawdopodobieństwa, powyżej którego przyjmujemy klasę pozytywną. Taką krzywą należy rysować na zbiorze walidacyjnym, bo później chcemy wykorzystać tę informację do doboru progu, a nie chcemy mieć wycieku danych testowych (data leakage).\n",
            "\n",
            "Poniżej zaimplementowano także funkcję `get_optimal_threshold()`, która sprawdza, dla którego progu uzyskujemy maksymalny F1-score, i zwraca indeks oraz wartość optymalnego progu. Przyda ci się ona w dalszej części laboratorium."
         ],
         "outputs": []
      },
      {
         "cell_type": "code",
         "execution_count": 27,
         "metadata": {},
         "outputs": [],
         "source": [
            "from sklearn.metrics import PrecisionRecallDisplay\n",
            "\n",
            "\n",
            "def get_optimal_threshold(\n",
            "    precisions: np.array, \n",
            "    recalls: np.array, \n",
            "    thresholds: np.array\n",
            ") -> Tuple[int, float]:\n",
            "    \n",
            "    numerator = 2 * precisions * recalls\n",
            "    denominator = precisions + recalls\n",
            "    f1_scores = np.divide(numerator, denominator, out=np.zeros_like(numerator), where=denominator != 0)\n",
            "    \n",
            "    optimal_idx = np.argmax(f1_scores)\n",
            "    optimal_threshold = thresholds[optimal_idx]\n",
            "    \n",
            "    return optimal_idx, optimal_threshold\n",
            "\n",
            "\n",
            "def plot_precision_recall_curve(y_true, y_pred_score) -> None:\n",
            "    precisions, recalls, thresholds = precision_recall_curve(y_true, y_pred_score)\n",
            "    optimal_idx, optimal_threshold = get_optimal_threshold(precisions, recalls, thresholds)\n",
            "\n",
            "    disp = PrecisionRecallDisplay(precisions, recalls)\n",
            "    disp.plot()\n",
            "    plt.title(f\"Precision-recall curve (opt. thresh.: {optimal_threshold:.4f})\")\n",
            "    plt.axvline(recalls[optimal_idx], color=\"green\", linestyle=\"-.\")\n",
            "    plt.axhline(precisions[optimal_idx], color=\"green\", linestyle=\"-.\")\n",
            "    plt.show()\n"
         ]
      },
      {
         "cell_type": "code",
         "execution_count": 28,
         "metadata": {},
         "outputs": [],
         "source": [
            "model.eval()\n",
            "with torch.no_grad():\n",
            "    y_pred_valid_score = activation(model(X_valid))\n",
            "\n",
            "plot_precision_recall_curve(y_valid, y_pred_valid_score)"
         ]
      },
      {
         "cell_type": "markdown",
         "metadata": {
            "id": "vfQPIUQ_LAs2"
         },
         "source": [
            "Jak widać, chociaż AUROC jest wysokie, to dla optymalnego F1-score recall nie jest zbyt wysoki, a precyzja jest już dość niska. Być może wynik uda się poprawić, używając modelu o większej pojemności - pełnej, głębokiej sieci neuronowej."
         ],
         "outputs": []
      },
      {
         "cell_type": "markdown",
         "metadata": {},
         "source": [
            "## Sieci neuronowe"
         ],
         "outputs": []
      },
      {
         "cell_type": "markdown",
         "metadata": {
            "id": "YP298w6Cq7T6"
         },
         "source": [
            "Wszystko zaczęło się od inspirowanych biologią [sztucznych neuronów](https://en.wikipedia.org/wiki/Artificial_neuron), których próbowano użyć do symulacji mózgu. Naukowcy szybko odeszli od tego podejścia (sam problem modelowania okazał się też znacznie trudniejszy, niż sądzono), zamiast tego używając neuronów jako jednostek reprezentującą dowolną funkcję parametryczną $f(x, \\Theta)$. Każdy neuron jest zatem bardzo elastyczny, bo jedyne wymagania to funkcja różniczkowalna, a mamy do tego wektor parametrów $\\Theta$.\n",
            "\n",
            "W praktyce najczęściej można spotkać się z kilkoma rodzinami sieci neuronowych:\n",
            "1. Perceptrony wielowarstwowe (*MultiLayer Perceptron*, MLP) - najbardziej podobne do powyższego opisu, niezbędne do klasyfikacji i regresji\n",
            "2. Konwolucyjne (*Convolutional Neural Networks*, CNNs) - do przetwarzania danych z zależnościami przestrzennymi, np. obrazów czy dźwięku\n",
            "3. Rekurencyjne (*Recurrent Neural Networks*, RNNs) - do przetwarzania danych z zależnościami sekwencyjnymi, np. szeregi czasowe, oraz kiedyś do języka naturalnego\n",
            "4. Transformacyjne (*Transformers*), oparte o mechanizm atencji (*attention*) - do przetwarzania języka naturalnego (NLP), z którego wyparły RNNs, a coraz częściej także do wszelkich innych danych, np. obrazów, dźwięku\n",
            "5. Grafowe (*Graph Neural Networks*, GNNS) - do przetwarzania grafów\n",
            "\n",
            "Na tym laboratorium skupimy się na najprostszej architekturze, czyli MLP. Jest ona powszechnie łączona z wszelkimi innymi architekturami, bo pozwala dokonywać klasyfikacji i regresji. Przykładowo, klasyfikacja obrazów to zwykle CNN + MLP, klasyfikacja tekstów to transformer + MLP, a regresja na grafach to GNN + MLP.\n",
            "\n",
            "Dodatkowo, pomimo prostoty MLP są bardzo potężne - udowodniono, że perceptrony (ich powszechna nazwa) są [uniwersalnym aproksymatorem](https://www.sciencedirect.com/science/article/abs/pii/0893608089900208), będącym w stanie przybliżyć dowolną funkcję z odpowiednio małym błędem, zakładając wystarczającą wielkość warstw sieci. Szczególne ich wersje potrafią nawet [reprezentować drzewa decyzyjne](https://www.youtube.com/watch?v=_okxGdHM5b8).\n",
            "\n",
            "Dla zainteresowanych polecamy [doskonałą książkę \"Dive into Deep Learning\", z implementacjami w PyTorchu](https://d2l.ai/chapter_multilayer-perceptrons/index.html), [klasyczną książkę \"Deep Learning Book\"](https://www.deeplearningbook.org/contents/mlp.html), oraz [ten filmik](https://www.youtube.com/watch?v=BFHrIxKcLjA), jeśli zastanawiałeś/-aś się, czemu używamy deep learning, a nie naprzykład (wide?) learning. (aka. czemu staramy się budować głębokie sieci, a nie płytkie za to szerokie)"
         ],
         "outputs": []
      },
      {
         "attachments": {
            "1_x-3NGQv0pRIab8xDT-f_Hg.png": {
               "image/png": "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"
            }
         },
         "cell_type": "markdown",
         "metadata": {
            "id": "S_ZjoGBU5upj"
         },
         "source": [
            "### Sieci MLP\n",
            "\n",
            "Dla przypomnienia, na wejściu mamy punkty ze zbioru treningowego, czyli $d$-wymiarowe wektory. W klasyfikacji chcemy znaleźć granicę decyzyjną, czyli krzywą, która oddzieli od siebie klasy. W wejściowej przestrzeni może być to trudne, bo chmury punktów z poszczególnych klas mogą być ze sobą dość pomieszane. Pamiętajmy też, że regresja logistyczna jest klasyfikatorem liniowym, czyli w danej przestrzeni potrafi oddzielić punkty tylko linią prostą.\n",
            "\n",
            "Sieć MLP składa się z warstw. Każda z nich dokonuje nieliniowego przekształcenia przestrzeni (można o tym myśleć jak o składaniu przestrzeni jakąś prostą/łamaną), tak, aby w finalnej przestrzeni nasze punkty były możliwie liniowo separowalne. Wtedy ostatnia warstwa z sigmoidą będzie potrafiła je rozdzielić od siebie.\n",
            "\n",
            "![1_x-3NGQv0pRIab8xDT-f_Hg.png](attachment:1_x-3NGQv0pRIab8xDT-f_Hg.png)\n",
            "\n",
            "Poszczególne neurony składają się z iloczynu skalarnego wejść z wagami neuronu, oraz nieliniowej funkcji aktywacji. W PyTorchu są to osobne obiekty - `nn.Linear` oraz np. `nn.Sigmoid`. Funkcja aktywacji przyjmuje wynik iloczynu skalarnego i przekształca go, aby sprawdzić, jak mocno reaguje neuron na dane wejście. Musi być nieliniowa z dwóch powodów. Po pierwsze, tylko nieliniowe przekształcenia są na tyle potężne, żeby umożliwić liniową separację danych w ostatniej warstwie. Po drugie, liniowe przekształcenia zwyczajnie nie działają. Aby zrozumieć czemu, trzeba zobaczyć, co matematycznie oznacza sieć MLP.\n",
            "\n",
            "![perceptron](https://www.saedsayad.com/images/Perceptron_bkp_1.png)\n",
            "\n",
            "Zapisane matematycznie MLP to:\n",
            "\n",
            "$\\large\n",
            "h_1 = f_1(x) \\\\\n",
            "h_2 = f_2(h_1) \\\\\n",
            "h_3 = f_3(h_2) \\\\\n",
            "... \\\\\n",
            "h_n = f_n(h_{n-1})\n",
            "$\n",
            "\n",
            "gdzie $x$ to wejście $f_i$ to funkcja aktywacji $i$-tej warstwy, a $h_i$ to wyjście $i$-tej warstwy, nazywane **ukrytą reprezentacją (hidden representation)**, lub *latent representation*. Nazwa bierze się z tego, że w środku sieci wyciągamy cechy i wzorce w danych, które nie są widoczne na pierwszy rzut oka na wejściu.\n",
            "\n",
            "Załóżmy, że uczymy się na danych $x$ o jednym wymiarze (dla uproszczenia wzorów) oraz nie mamy funkcji aktywacji, czyli wykorzystujemy tak naprawdę aktywację liniową $f(x) = x$. Zobaczmy jak będą wyglądać dane przechodząc przez kolejne warstwy:\n",
            "\n",
            "$\\large\n",
            "h_1 = f_1(xw_1) = xw_1 \\\\\n",
            "h_2 = f_2(h_1w_2) = xw_1w_2 \\\\\n",
            "... \\\\\n",
            "h_n = f_n(h_{n-1}w_n) = xw_1w_2...w_n\n",
            "$\n",
            "\n",
            "gdzie $w_i$ to jest parametr $i$-tej warstwy sieci, $x$ to są dane (w naszym przypadku jedna liczba) wejściowa, a $h_i$ to wyjście $i$-tej warstwy.\n",
            "\n",
            "Jak widać, taka sieć o $n$ warstwach jest równoważna sieci o jednej warstwie z parametrem $w = w_1w_2...w_n$. Wynika to z tego, że złożenie funkcji liniowych jest także funkcją liniową - patrz notatki z algebry :)\n",
            "\n",
            "Jeżeli natomiast użyjemy nieliniowej funkcji aktywacji, często oznaczanej jako $\\sigma$, to wszystko będzie działać. Co ważne, ostatnia warstwa, dająca wyjście sieci, ma zwykle inną aktywację od warstw wewnątrz sieci, bo też ma inne zadanie - zwrócić wartość dla klasyfikacji lub regresji. Na wyjściu korzysta się z funkcji liniowej (regresja), sigmoidalnej (klasyfikacja binarna) lub softmax (klasyfikacja wieloklasowa).\n",
            "\n",
            "Wewnątrz sieci używano kiedyś sigmoidy oraz tangensa hiperbolicznego `tanh`, ale okazało się to nieefektywne przy uczeniu głębokich sieci o wielu warstwach. Nowoczesne sieci korzystają zwykle z funkcji ReLU (*rectified linear unit*), która jest zaskakująco prosta: $ReLU(x) = \\max(0, x)$. Okazało się, że bardzo dobrze nadaje się do treningu nawet bardzo głębokich sieci neuronowych. Nowsze funkcje aktywacji są głównie modyfikacjami ReLU.\n",
            "\n",
            "![relu](https://www.nomidl.com/wp-content/uploads/2022/04/image-10.png)"
         ],
         "outputs": []
      },
      {
         "cell_type": "markdown",
         "metadata": {},
         "source": [
            "### MLP w PyTorchu\n",
            "\n",
            "Warstwę neuronów w MLP nazywa się warstwą gęstą (*dense layer*) lub warstwą w pełni połączoną (*fully-connected layer*), i taki opis oznacza zwykle same neurony oraz funkcję aktywacji. PyTorch, jak już widzieliśmy, definiuje osobno transformację liniową oraz aktywację, a więc jedna warstwa składa się de facto z 2 obiektów, wywoływanych jeden po drugim. Inne frameworki, szczególnie wysokopoziomowe (np. Keras) łączą to często w jeden obiekt.\n",
            "\n",
            "MLP składa się zatem z sekwencji obiektów, które potem wywołuje się jeden po drugim, gdzie wyjście poprzedniego to wejście kolejnego. Ale nie można tutaj używać Pythonowych list! Z perspektywy PyTorcha to wtedy niezależne obiekty i nie zostanie wtedy przekazany między nimi gradient. Trzeba tutaj skorzystać z `nn.Sequential`, aby tworzyć taki pipeline.\n",
            "\n",
            "Rozmiary wejścia i wyjścia dla każdej warstwy trzeba w PyTorchu podawać explicite. Jest to po pierwsze edukacyjne, a po drugie często ułatwia wnioskowanie o działaniu sieci oraz jej debugowanie - mamy jasno podane, czego oczekujemy. Niektóre frameworki (np. Keras) obliczają to automatycznie.\n",
            "\n",
            "Co ważne, ostatnia warstwa zwykle nie ma funkcji aktywacji. Wynika to z tego, że obliczanie wielu funkcji kosztu (np. entropii krzyżowej) na aktywacjach jest często niestabilne numerycznie. Z tego powodu PyTorch oferuje funkcje kosztu zawierające w środku aktywację dla ostatniej warstwy, a ich implementacje są stabilne numerycznie. Przykładowo, `nn.BCELoss` przyjmuje wejście z zaaplikowanymi już aktywacjami, ale może skutkować under/overflow, natomiast `nn.BCEWithLogitsLoss` przyjmuje wejście bez aktywacji, a w środku ma specjalną implementację łączącą binarną entropię krzyżową z aktywacją sigmoidalną. Oczywiście w związku z tym aby dokonać potem predykcji w praktyce, trzeba pamiętać o użyciu funkcji aktywacji. Często korzysta się przy tym z funkcji z modułu `torch.nn.functional`, które są w tym wypadku nieco wygodniejsze od klas wywoływalnych z `torch.nn`.\n",
            "\n",
            "Całe sieci w PyTorchu tworzy się jako klasy dziedziczące po `nn.Module`. Co ważne, obiekty, z których tworzymy sieć, np. `nn.Linear`, także dziedziczą po tej klasie. Pozwala to na bardzo modułową budowę kodu, zgodną z zasadami OOP. W konstruktorze najpierw trzeba zawsze wywołać konstruktor rodzica - `super().__init__()`, a później tworzy się potrzebne obiekty i zapisuje jako atrybuty. Każdy atrybut dziedziczący po `nn.Module` lub `nn.Parameter` jest uważany za taki, który zawiera parametry sieci, a więc przy wywołaniu metody `parameters()` - parametry z tych atrybutów pojawią się w liście wszystkich parametrów. Musimy też zdefiniować metodę `forward()`, która przyjmuje tensor `x` i zwraca wynik. Typowo ta metoda po prostu używa obiektów zdefiniowanych w konstruktorze.\n",
            "\n",
            "\n",
            "**UWAGA: nigdy w normalnych warunkach się nie woła metody `forward` ręcznie**"
         ],
         "outputs": []
      },
      {
         "cell_type": "markdown",
         "metadata": {
            "id": "J8niDgExAMDO"
         },
         "source": [
            "#### Zadanie 4 (1 punkt)\n",
            "\n",
            "Uzupełnij implementację 3-warstwowej sieci MLP. Użyj rozmiarów:\n",
            "* pierwsza warstwa: input_size x 256\n",
            "* druga warstwa: 256 x 128\n",
            "* trzecia warstwa: 128 x 1\n",
            "\n",
            "Użyj funkcji aktywacji ReLU.\n",
            "\n",
            "Przydatne klasy:\n",
            "- `nn.Sequential`\n",
            "- `nn.Linear`\n",
            "- `nn.ReLU`"
         ],
         "outputs": []
      },
      {
         "cell_type": "code",
         "execution_count": 30,
         "metadata": {},
         "outputs": [],
         "source": [
            "from torch import sigmoid\n",
            "\n",
            "\n",
            "class MLP(nn.Module):\n",
            "    def __init__(self, input_size: int):\n",
            "        super().__init__()\n",
            "\n",
            "        # implement me!\n",
            "        # your_code\n",
            "\n",
            "    def forward(self, x):\n",
            "        # implement me!\n",
            "        # your_code\n",
            "\n",
            "    def predict_proba(self, x):\n",
            "        return sigmoid(self(x))\n",
            "    \n",
            "    def predict(self, x, threshold: float = 0.5):\n",
            "        y_pred_score = self.predict_proba(x)\n",
            "        return (y_pred_score > threshold).to(torch.int32)\n"
         ]
      },
      {
         "cell_type": "code",
         "execution_count": 31,
         "metadata": {},
         "outputs": [],
         "source": [
            "learning_rate = 1e-3\n",
            "model = MLP(input_size=X_train.shape[1])\n",
            "optimizer = torch.optim.SGD(model.parameters(), lr=learning_rate)\n",
            "\n",
            "# note that we are using loss function with sigmoid built in\n",
            "loss_fn = torch.nn.BCEWithLogitsLoss()\n",
            "num_epochs = 2000\n",
            "evaluation_steps = 200\n",
            "\n",
            "for i in range(num_epochs):\n",
            "    y_pred = model(X_train)\n",
            "    loss = loss_fn(y_pred, y_train)\n",
            "    loss.backward()\n",
            "\n",
            "    optimizer.step()\n",
            "    optimizer.zero_grad()\n",
            "\n",
            "    if i % evaluation_steps == 0:\n",
            "        print(f\"Epoch {i} train loss: {loss.item():.4f}\")\n",
            "\n",
            "print(f\"final loss: {loss.item():.4f}\")"
         ]
      },
      {
         "cell_type": "code",
         "execution_count": 32,
         "metadata": {
            "colab": {
               "base_uri": "https://localhost:8080/"
            },
            "id": "LP5GSup24dXU",
            "outputId": "05f332c4-5d94-41f6-f85b-17793d3c4b49"
         },
         "outputs": [],
         "source": [
            "model.eval()\n",
            "with torch.no_grad():\n",
            "    # positive class probabilities\n",
            "    y_pred_valid_score = model.predict_proba(X_valid)\n",
            "    y_pred_test_score = model.predict_proba(X_test)\n",
            "\n",
            "auroc = roc_auc_score(y_test, y_score)\n",
            "print(f\"AUROC: {100 * auroc:.2f}%\")\n",
            "\n",
            "plot_precision_recall_curve(y_valid, y_pred_valid_score)"
         ]
      },
      {
         "cell_type": "markdown",
         "metadata": {},
         "source": [
            "AUROC jest podobne, a precision i recall spadły - wypadamy wręcz gorzej od regresji liniowej! Skoro dodaliśmy więcej warstw, to może pojemność modelu jest teraz za duża i trzeba by go zregularyzować?\n",
            "\n",
            "Sieci neuronowe bardzo łatwo przeuczają, bo są bardzo elastycznymi i pojemnymi modelami. Dlatego mają wiele różnych rodzajów regularyzacji, których używa się razem. Co ciekawe, udowodniono eksperymentalnie, że zbyt duże sieci z mocną regularyzacją działają lepiej niż mniejsze sieci, odpowiedniego rozmiaru, za to ze słabszą regularyzacją.\n",
            "\n",
            "Pierwszy rodzaj regularyzacji to znana nam już **regularyzacja L2**, czyli penalizacja zbyt dużych wag. W kontekście sieci neuronowych nazywa się też ją czasem *weight decay*. W PyTorchu dodaje się ją jako argument do optymalizatora.\n",
            "\n",
            "Regularyzacja specyficzna dla sieci neuronowych to **dropout**. Polega on na losowym wyłączaniu zadanego procenta neuronów podczas treningu. Pomimo prostoty okazała się niesamowicie skuteczna, szczególnie w treningu bardzo głębokich sieci. Co ważne, jest to mechanizm używany tylko podczas treningu - w trakcie predykcji za pomocą sieci wyłącza się ten mechanizm i dokonuje normalnie predykcji całą siecią. Podejście to można potraktować jak ensemble learning, podobny do lasów losowych - wyłączając losowe części sieci, w każdej iteracji trenujemy nieco inną sieć, co odpowiada uśrednianiu predykcji różnych algorytmów. Typowo stosuje się dość mocny dropout, rzędu 25-50%. W PyTorchu implementuje go warstwa `nn.Dropout`, aplikowana zazwyczaj po funkcji aktywacji.\n",
            "\n",
            "Ostatni, a być może najważniejszy rodzaj regularyzacji to **wczesny stop (early stopping)**. W każdym kroku mocniej dostosowujemy terenową sieć do zbioru treningowego, a więc zbyt długi trening będzie skutkował przeuczeniem. W metodzie wczesnego stopu używamy wydzielonego zbioru walidacyjnego (pojedynczego, metoda holdout), sprawdzając co określoną liczbę epok wynik na tym zbiorze. Jeżeli nie uzyskamy wyniku lepszego od najlepszego dotychczas uzyskanego przez określoną liczbę epok, to przerywamy trening. Okres, przez który czekamy na uzyskanie lepszego wyniku, to cierpliwość (*patience*). Im mniejsze, tym mocniejszy jest ten rodzaj regularyzacji, ale trzeba z tym uważać, bo łatwo jest przesadzić i zbyt szybko przerywać trening. Niektóre implementacje uwzględniają tzw. *grace period*, czyli gwarantowaną minimalną liczbę epok, przez którą będziemy trenować sieć, niezależnie od wybranej cierpliwości.\n",
            "\n",
            "Dodatkowo ryzyko przeuczenia można zmniejszyć, używając mniejszej stałej uczącej."
         ],
         "outputs": []
      },
      {
         "cell_type": "markdown",
         "metadata": {},
         "source": [
            "#### Zadanie 5 (1 punkt)\n",
            "\n",
            "Zaimplementuj funkcję `evaluate_model()`, obliczającą metryki na zbiorze testowym:\n",
            "- wartość funkcji kosztu (loss)\n",
            "- AUROC\n",
            "- optymalny próg\n",
            "- F1-score przy optymalnym progu\n",
            "- precyzję oraz recall dla optymalnego progu\n",
            "\n",
            "Jeżeli podana jest wartość argumentu `threshold`, to użyj jej do zamiany prawdopodobieństw na twarde predykcje. W przeciwnym razie użyj funkcji `get_optimal_threshold` i oblicz optymalną wartość progu.\n",
            "\n",
            "Pamiętaj o przełączeniu modelu w tryb ewaluacji oraz o wyłączeniu obliczania gradientów."
         ],
         "outputs": []
      },
      {
         "cell_type": "code",
         "execution_count": 33,
         "metadata": {},
         "outputs": [],
         "source": [
            "from typing import Optional\n",
            "\n",
            "from sklearn.metrics import precision_score, recall_score, f1_score\n",
            "from torch import sigmoid\n",
            "\n",
            "\n",
            "def evaluate_model(\n",
            "    model: nn.Module, \n",
            "    X: torch.Tensor, \n",
            "    y: torch.Tensor, \n",
            "    loss_fn: nn.Module,\n",
            "    threshold: Optional[float]= None\n",
            ") -> Dict[str, float]:\n",
            "    # implement me!\n",
            "    # your_code\n"
         ]
      },
      {
         "cell_type": "markdown",
         "metadata": {},
         "source": [
            "#### Zadanie 6 (1 punkt)\n",
            "\n",
            "Zaimplementuj 3-warstwową sieć MLP z dropout (50%). Rozmiary warstw ukrytych mają wynosić 256 i 128."
         ],
         "outputs": []
      },
      {
         "cell_type": "code",
         "execution_count": 35,
         "metadata": {},
         "outputs": [],
         "source": [
            "class RegularizedMLP(nn.Module):\n",
            "    def __init__(self, input_size: int, dropout_p: float = 0.5):\n",
            "        super().__init__()\n",
            "\n",
            "        # implement me!\n",
            "        # your_code\n",
            "    \n",
            "    def forward(self, x):\n",
            "        # implement me!\n",
            "        # your_code\n",
            "\n",
            "    def predict_proba(self, x):\n",
            "        return sigmoid(self(x))\n",
            "    \n",
            "    def predict(self, x, threshold: float = 0.5):\n",
            "        y_pred_score = self.predict_proba(x)\n",
            "        return (y_pred_score > threshold).to(torch.int32)\n"
         ]
      },
      {
         "cell_type": "markdown",
         "metadata": {
            "id": "rEk9azaULAsz"
         },
         "source": [
            "Opisaliśmy wcześniej podstawowy optymalizator w sieciach neuronowych - spadek wzdłuż gradientu. Jednak wymaga on użycia całego zbioru danych, aby obliczyć gradient, co jest często niewykonalne przez rozmiar zbioru. Dlatego wymyślono **stochastyczny spadek wzdłuż gradientu (stochastic gradient descent, SGD)**, w którym używamy 1 przykładu naraz, liczymy gradient tylko po nim i aktualizujemy parametry. Jest to oczywiście dość grube przybliżenie gradientu, ale pozwala robić szybko dużo małych kroków. Kompromisem, którego używa się w praktyce, jest **minibatch gradient descent**, czyli używanie batchy np. 32, 64 czy 128 przykładów.\n",
            "\n",
            "Rzadko wspominanym, a ważnym faktem jest także to, że stochastyczność metody optymalizacji jest sama w sobie też [metodą regularyzacji](https://arxiv.org/abs/2101.12176), a więc `batch_size` to także hiperparametr.\n",
            "\n",
            "Obecnie najpopularniejszą odmianą SGD jest [Adam](https://arxiv.org/abs/1412.6980), gdyż uczy on szybko sieć oraz daje bardzo dobre wyniki nawet przy niekoniecznie idealnie dobranych hiperparametrach. W PyTorchu najlepiej korzystać z jego implementacji `AdamW`, która jest nieco lepsza niż implementacja `Adam`. Jest to zasadniczo zawsze wybór domyślny przy treningu współczesnych sieci neuronowych.\n",
            "\n",
            "Na razie użyjemy jednak minibatch SGD."
         ],
         "outputs": []
      },
      {
         "cell_type": "markdown",
         "metadata": {},
         "source": [
            "Poniżej znajduje się implementacja prostej klasy dziedziczącej po `Dataset` - tak w PyTorchu implementuje się własne zbiory danych. Użycie takich klas umożliwia użycie klas ładujących dane (`DataLoader`), które z kolei pozwalają łatwo ładować batche danych. Trzeba w takiej klasie zaimplementować metody:\n",
            "- `__len__` - zwraca ilość punktów w zbiorze\n",
            "- `__getitem__` - zwraca przykład ze zbioru pod danym indeksem oraz jego klasę\n"
         ],
         "outputs": []
      },
      {
         "cell_type": "code",
         "execution_count": 36,
         "metadata": {},
         "outputs": [],
         "source": [
            "from torch.utils.data import Dataset\n",
            "\n",
            "\n",
            "class MyDataset(Dataset):\n",
            "    def __init__(self, data, y):\n",
            "        super().__init__()\n",
            "        \n",
            "        self.data = data\n",
            "        self.y = y\n",
            "    \n",
            "    def __len__(self):\n",
            "        return self.data.shape[0]\n",
            "    \n",
            "    def __getitem__(self, idx):\n",
            "        return self.data[idx], self.y[idx]\n"
         ]
      },
      {
         "cell_type": "markdown",
         "metadata": {},
         "source": [
            "#### Zadanie 7 (2 punkty)\n",
            "\n",
            "Zaimplementuj pętlę treningowo-walidacyjną dla sieci neuronowej. Wykorzystaj podane wartości hiperparametrów do treningu (stała ucząca, prawdopodobieństwo dropoutu, regularyzacja L2, rozmiar batcha, maksymalna liczba epok). Użyj optymalizatora SGD.\n",
            "\n",
            "Dodatkowo zaimplementuj regularyzację przez early stopping. Sprawdzaj co epokę wynik na zbiorze walidacyjnym. Użyj podanej wartości patience, a jako metryki po prostu wartości funkcji kosztu. Może się tutaj przydać zaimplementowana funkcja `evaluate_model()`.\n",
            "\n",
            "Pamiętaj o tym, aby przechowywać najlepszy dotychczasowy wynik walidacyjny oraz najlepszy dotychczasowy model. Zapamiętaj też optymalny próg do klasyfikacji dla najlepszego modelu."
         ],
         "outputs": []
      },
      {
         "cell_type": "code",
         "execution_count": 37,
         "metadata": {},
         "outputs": [],
         "source": [
            "from copy import deepcopy\n",
            "\n",
            "from torch.utils.data import DataLoader\n",
            "\n",
            "\n",
            "learning_rate = 1e-3\n",
            "dropout_p = 0.5\n",
            "l2_reg = 1e-4\n",
            "batch_size = 128\n",
            "max_epochs = 300\n",
            "\n",
            "early_stopping_patience = 4"
         ]
      },
      {
         "cell_type": "code",
         "execution_count": 38,
         "metadata": {
            "scrolled": true
         },
         "outputs": [],
         "source": [
            "model = RegularizedMLP(\n",
            "    input_size=X_train.shape[1], \n",
            "    dropout_p=dropout_p\n",
            ")\n",
            "optimizer = torch.optim.SGD(\n",
            "    model.parameters(), \n",
            "    lr=learning_rate, \n",
            "    weight_decay=l2_reg\n",
            ")\n",
            "loss_fn = torch.nn.BCEWithLogitsLoss()\n",
            "\n",
            "train_dataset = MyDataset(X_train, y_train)\n",
            "train_dataloader = DataLoader(train_dataset, batch_size=batch_size)\n",
            "\n",
            "steps_without_improvement = 0\n",
            "\n",
            "best_val_loss = np.inf\n",
            "best_model = None\n",
            "best_threshold = None\n",
            "\n",
            "for epoch_num in range(max_epochs):\n",
            "    model.train()\n",
            "    \n",
            "    # note that we are using DataLoader to get batches\n",
            "    for X_batch, y_batch in train_dataloader:\n",
            "        # model training\n",
            "        # implement me!\n",
            "        # your_code\n",
            "    \n",
            "    # model evaluation, early stopping\n",
            "    # implement me!\n",
            "    # your_code\n",
            "    \n",
            "    print(f\"Epoch {epoch_num} train loss: {loss.item():.4f}, eval loss {valid_metrics['loss']}\")\n"
         ]
      },
      {
         "cell_type": "code",
         "execution_count": 52,
         "metadata": {},
         "outputs": [],
         "source": [
            "test_metrics = evaluate_model(best_model, X_test, y_test, loss_fn, best_threshold)\n",
            "\n",
            "print(f\"AUROC: {100 * test_metrics['AUROC']:.2f}%\")\n",
            "print(f\"F1: {100 * test_metrics['F1-score']:.2f}%\")\n",
            "print(f\"Precision: {100 * test_metrics['precision']:.2f}%\")\n",
            "print(f\"Recall: {100 * test_metrics['recall']:.2f}%\")"
         ]
      },
      {
         "cell_type": "markdown",
         "metadata": {},
         "source": [
            "Wyniki wyglądają już dużo lepiej.\n",
            "\n",
            "Na koniec laboratorium dołożymy do naszego modelu jeszcze 3 powrzechnie używane techniki, które są bardzo proste, a pozwalają często ulepszyć wynik modelu.\n",
            "\n",
            "Pierwszą z nich są **warstwy normalizacji (normalization layers)**. Powstały one początkowo z założeniem, że przez przekształcenia przestrzeni dokonywane przez sieć zmienia się rozkład prawdopodobieństw pomiędzy warstwami, czyli tzw. *internal covariate shift*. Później okazało się, że zastosowanie takiej normalizacji wygładza powierzchnię funkcji kosztu, co ułatwia i przyspiesza optymalizację. Najpowszechniej używaną normalizacją jest **batch normalization (batch norm)**.\n",
            "\n",
            "Drugim ulepszeniem jest dodanie **wag klas (class weights)**. Mamy do czynienia z problemem klasyfikacji niezbalansowanej, więc klasa mniejszościowa, ważniejsza dla nas, powinna dostać większą wagę. Implementuje się to trywialnie prosto - po prostu mnożymy wartość funkcji kosztu dla danego przykładu przez wagę dla prawdziwej klasy tego przykładu. Praktycznie każdy klasyfikator operujący na jakiejś ważonej funkcji może działać w ten sposób, nie tylko sieci neuronowe.\n",
            "\n",
            "Ostatnim ulepszeniem jest zamiana SGD na optymalizator Adam, a konkretnie na optymalizator `AdamW`. Jest to przykład **optymalizatora adaptacyjnego (adaptive optimizer)**, który potrafi zaadaptować stałą uczącą dla każdego parametru z osobna w trakcie treningu. Wykorzystuje do tego gradienty - w uproszczeniu, im większa wariancja gradientu, tym mniejsze kroki w tym kierunku robimy."
         ],
         "outputs": []
      },
      {
         "cell_type": "markdown",
         "metadata": {},
         "source": [
            "#### Zadanie 8 (1 punkt)\n",
            "\n",
            "Zaimplementuj model `NormalizingMLP`, o takiej samej strukturze jak `RegularizedMLP`, ale dodatkowo z warstwami `BatchNorm1d` pomiędzy warstwami `Linear` oraz `ReLU`.\n",
            "\n",
            "Za pomocą funkcji `compute_class_weight()` oblicz wagi dla poszczególnych klas. Użyj opcji `\"balanced\"`. Przekaż do funkcji kosztu wagę klasy pozytywnej (pamiętaj, aby zamienić ją na tensor).\n",
            "\n",
            "Zamień używany optymalizator na `AdamW`.\n",
            "\n",
            "Na koniec skopiuj resztę kodu do treningu z poprzedniego zadania, wytrenuj sieć i oblicz wyniki na zbiorze testowym."
         ],
         "outputs": []
      },
      {
         "cell_type": "code",
         "execution_count": 41,
         "metadata": {},
         "outputs": [],
         "source": [
            "class NormalizingMLP(nn.Module):\n",
            "    def __init__(self, input_size: int, dropout_p: float = 0.5):\n",
            "        super().__init__()\n",
            "\n",
            "        # implement me!\n",
            "        # your_code\n",
            "    \n",
            "    def forward(self, x):\n",
            "        return self.mlp(x)\n",
            "\n",
            "    def predict_proba(self, x):\n",
            "        return sigmoid(self(x))\n",
            "    \n",
            "    def predict(self, x, threshold: float = 0.5):\n",
            "        y_pred_score = self.predict_proba(x)\n",
            "        return (y_pred_score > threshold).to(torch.int32)\n"
         ]
      },
      {
         "cell_type": "code",
         "execution_count": 42,
         "metadata": {},
         "outputs": [],
         "source": [
            "# define all the hyperparameters\n",
            "# your_code\n"
         ]
      },
      {
         "cell_type": "code",
         "execution_count": 43,
         "metadata": {
            "scrolled": true
         },
         "outputs": [],
         "source": [
            "# training loop\n",
            "# your_code\n"
         ]
      },
      {
         "cell_type": "code",
         "execution_count": 44,
         "metadata": {
            "scrolled": true
         },
         "outputs": [],
         "source": [
            "test_metrics = evaluate_model(best_model, X_test, y_test, loss_fn, best_threshold)\n",
            "\n",
            "print(f\"AUROC: {100 * test_metrics['AUROC']:.2f}%\")\n",
            "print(f\"F1: {100 * test_metrics['F1-score']:.2f}%\")\n",
            "print(f\"Precision: {100 * test_metrics['precision']:.2f}%\")\n",
            "print(f\"Recall: {100 * test_metrics['recall']:.2f}%\")"
         ]
      },
      {
         "cell_type": "markdown",
         "metadata": {
            "id": "XyoRnHT4GFR9"
         },
         "source": [
            "## Akceleracja sprzętowa (dla zainteresowanych)"
         ],
         "outputs": []
      },
      {
         "cell_type": "markdown",
         "metadata": {},
         "source": [
            "Jak wcześniej wspominaliśmy, użycie akceleracji sprzętowej, czyli po prostu GPU do obliczeń, jest bardzo efektywne w przypadku sieci neuronowych. Karty graficzne bardzo efektywnie mnożą macierze, a sieci neuronowe to, jak można było się przekonać, dużo mnożenia macierzy.\n",
            "\n",
            "W PyTorchu jest to dosyć łatwe, ale trzeba robić to explicite. Służy do tego metoda `.to()`, która przenosi tensory między CPU i GPU. Poniżej przykład, jak to się robi (oczywiście trzeba mieć skonfigurowane GPU, żeby działało):"
         ],
         "outputs": []
      },
      {
         "cell_type": "code",
         "execution_count": 45,
         "metadata": {},
         "outputs": [],
         "source": [
            "import time \n",
            "\n",
            "\n",
            "class CudaMLP(nn.Module):\n",
            "    def __init__(self, input_size: int, dropout_p: float = 0.5):\n",
            "        super().__init__()\n",
            "\n",
            "        self.mlp = nn.Sequential(\n",
            "            nn.Linear(input_size, 512),\n",
            "            nn.BatchNorm1d(512),\n",
            "            nn.ReLU(),\n",
            "            nn.Dropout(dropout_p),\n",
            "            nn.Linear(512, 256),\n",
            "            nn.BatchNorm1d(256),\n",
            "            nn.ReLU(),\n",
            "            nn.Dropout(dropout_p),\n",
            "            nn.Linear(256, 256),\n",
            "            nn.BatchNorm1d(256),\n",
            "            nn.ReLU(),\n",
            "            nn.Dropout(dropout_p),\n",
            "            nn.Linear(256, 128),\n",
            "            nn.BatchNorm1d(128),\n",
            "            nn.ReLU(),\n",
            "            nn.Dropout(dropout_p),\n",
            "            nn.Linear(128, 1),\n",
            "        )\n",
            "    \n",
            "    def forward(self, x):\n",
            "        return self.mlp(x)\n",
            "\n",
            "    def predict_proba(self, x):\n",
            "        return sigmoid(self(x))\n",
            "    \n",
            "    def predict(self, x, threshold: float = 0.5):\n",
            "        y_pred_score = self.predict_proba(x)\n",
            "        return (y_pred_score > threshold).to(torch.int32)\n",
            "\n",
            "\n",
            "model = CudaMLP(X_train.shape[1]).to('cuda')\n",
            "\n",
            "optimizer = torch.optim.AdamW(model.parameters(), lr=learning_rate, weight_decay=1e-4)\n",
            "\n",
            "# note that we are using loss function with sigmoid built in\n",
            "loss_fn = torch.nn.BCEWithLogitsLoss(pos_weight=torch.from_numpy(weights)[1].to('cuda'))\n",
            "\n",
            "step_counter = 0\n",
            "time_from_eval = time.time()\n",
            "for epoch_id in range(30):\n",
            "    for batch_x, batch_y in train_dataloader:\n",
            "        batch_x = batch_x.to('cuda')\n",
            "        batch_y = batch_y.to('cuda')\n",
            "        \n",
            "        loss = loss_fn(model(batch_x), batch_y)\n",
            "        loss.backward()\n",
            "\n",
            "        optimizer.step()\n",
            "        optimizer.zero_grad()\n",
            "        \n",
            "        if step_counter % evaluation_steps == 0:\n",
            "            print(f\"Epoch {epoch_id} train loss: {loss.item():.4f}, time: {time.time() - time_from_eval}\")\n",
            "            time_from_eval = time.time()\n",
            "\n",
            "        step_counter += 1\n",
            "\n",
            "test_res = evaluate_model(model.to('cpu'), X_test, y_test, loss_fn.to('cpu'), threshold=0.5)\n",
            "\n",
            "print(f\"AUROC: {100 * test_res['AUROC']:.2f}%\")\n",
            "print(f\"F1: {100 * test_res['F1-score']:.2f}%\")\n",
            "print(test_res)"
         ]
      },
      {
         "cell_type": "markdown",
         "metadata": {},
         "source": [
            "Co prawda ten model nie będzie tak dobry jak ten z laboratorium, ale zwróć uwagę, o ile jest większy, a przy tym szybszy.\n",
            "\n",
            "Dla zainteresowanych polecamy [tę serie artykułów](https://medium.com/@adi.fu7/ai-accelerators-part-i-intro-822c2cdb4ca4)"
         ],
         "outputs": []
      },
      {
         "cell_type": "markdown",
         "metadata": {},
         "source": [
            "## Zadanie dla chętnych"
         ],
         "outputs": []
      },
      {
         "cell_type": "markdown",
         "metadata": {},
         "source": [
            "Jak widzieliśmy, sieci neuronowe mają bardzo dużo hiperparametrów. Przeszukiwanie ich grid search'em jest więc niewykonalne, a chociaż random search by działał, to potrzebowałby wielu iteracji, co też jest kosztowne obliczeniowo.\n",
            "\n",
            "Zaimplementuj inteligentne przeszukiwanie przestrzeni hiperparametrów za pomocą biblioteki [Optuna](https://optuna.org/). Implementuje ona między innymi algorytm Tree Parzen Estimator (TPE), należący do grupy algorytmów typu Bayesian search. Typowo osiągają one bardzo dobre wyniki, a właściwie zawsze lepsze od przeszukiwania losowego. Do tego wystarcza im często niewielka liczba kroków.\n",
            "\n",
            "Zaimplementuj 3-warstwową sieć MLP, gdzie pierwsza warstwa ma rozmiar ukryty N, a druga N // 2. Ucz ją optymalizatorem Adam przez maksymalnie 300 epok z cierpliwością 10.\n",
            "\n",
            "Przeszukaj wybrane zakresy dla hiperparametrów:\n",
            "- rozmiar warstw ukrytych (N)\n",
            "- stała ucząca\n",
            "- batch size\n",
            "- siła regularyzacji L2\n",
            "- prawdopodobieństwo dropoutu\n",
            "\n",
            "Wykorzystaj przynajmniej 30 iteracji. Następnie przełącz algorytm na losowy (Optuna także jego implementuje), wykonaj 30 iteracji i porównaj jakość wyników.\n",
            "\n",
            "Przydatne materiały:\n",
            "- [Optuna code examples - PyTorch](https://optuna.org/#code_examples)\n",
            "- [Auto-Tuning Hyperparameters with Optuna and PyTorch](https://www.youtube.com/watch?v=P6NwZVl8ttc)\n",
            "- [Hyperparameter Tuning of Neural Networks with Optuna and PyTorch](https://towardsdatascience.com/hyperparameter-tuning-of-neural-networks-with-optuna-and-pytorch-22e179efc837)\n",
            "- [Using Optuna to Optimize PyTorch Hyperparameters](https://medium.com/pytorch/using-optuna-to-optimize-pytorch-hyperparameters-990607385e36)"
         ],
         "outputs": []
      },
      {
         "cell_type": "code",
         "execution_count": null,
         "metadata": {},
         "outputs": [],
         "source": []
      }
   ],
   "source": [
    "## Wprowadzenie\n",
    "\n",
    "Zanim zaczniemy naszą przygodę z sieciami neuronowymi, przyjrzyjmy się prostemu przykładowi regresji liniowej na syntetycznych danych:"
   ]
  },
  {
   "cell_type": "code",
   "execution_count": 222,
   "metadata": {
    "id": "rnJsfxbnLAsj"
   },
   "outputs": [],
   "source": [
    "from typing import Tuple, Dict\n",
    "\n",
    "import numpy as np\n",
    "import matplotlib.pyplot as plt"
   ]
  },
  {
   "cell_type": "code",
   "execution_count": 223,
   "metadata": {
    "colab": {
     "base_uri": "https://localhost:8080/",
     "height": 282
    },
    "id": "EaYpEXzBLAsl",
    "outputId": "2f8d2922-72f0-4d38-8548-d1262adf522e"
   },
   "outputs": [
    {
     "data": {
      "text/plain": [
       "<matplotlib.collections.PathCollection at 0x215d4752c10>"
      ]
     },
     "execution_count": 223,
     "metadata": {},
     "output_type": "execute_result"
    },
    {
     "data": {
      "image/png": "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",
      "text/plain": [
       "<Figure size 640x480 with 1 Axes>"
      ]
     },
     "metadata": {},
     "output_type": "display_data"
    }
   ],
   "source": [
    "np.random.seed(0)\n",
    "\n",
    "x = np.linspace(0, 1, 100)\n",
    "y = x + np.random.normal(scale=0.1, size=x.shape)\n",
    "\n",
    "plt.scatter(x, y)"
   ]
  },
  {
   "cell_type": "markdown",
   "metadata": {
    "id": "PEM_-yKELAsl"
   },
   "source": [
    "W przeciwieństwie do laboratorium 1, tym razem będziemy chcieli rozwiązać ten problem własnoręcznie, bez użycia wysokopoziomowego interfejsu Scikit-learn'a. W tym celu musimy sobie przypomnieć sformułowanie naszego **problemu optymalizacyjnego (optimization problem)**.\n",
    "\n",
    "W przypadku prostej regresji liniowej (1 zmienna) mamy model postaci $\\hat{y} = \\alpha x + \\beta$, z dwoma parametrami, których będziemy się uczyć. Miarą niedopasowania modelu o danych parametrach jest **funkcja kosztu (cost function)**, nazywana też funkcją celu. Najczęściej używa się **błędu średniokwadratowego (mean squared error, MSE)**:\n",
    "$$\\large\n",
    "MSE = \\frac{1}{N} \\sum_{i}^{N} (y - \\hat{y})^2\n",
    "$$\n",
    "\n",
    "Od jakich $\\alpha$ i $\\beta$ zacząć? W najprostszym wypadku wystarczy po prostu je wylosować jako niewielkie liczby zmiennoprzecinkowe.\n",
    "\n",
    "#### Zadanie 1 (0.5 punkt)\n",
    "\n",
    "Uzupełnij kod funkcji `mse`, obliczającej błąd średniokwadratowy. Wykorzystaj Numpy'a w celu wektoryzacji obliczeń dla wydajności."
   ]
  },
  {
   "cell_type": "code",
   "execution_count": 224,
   "metadata": {
    "colab": {
     "base_uri": "https://localhost:8080/"
    },
    "id": "RaA7Q46TLAsm",
    "outputId": "5c57fe58-1934-4d21-9a7b-d14e9a23140b"
   },
   "outputs": [],
   "source": [
    "def mse(y: np.ndarray, y_hat: np.ndarray) -> float:\n",
    "    return np.sum(np.square(y_hat - y)) / len(y)"
   ]
  },
  {
   "cell_type": "code",
   "execution_count": 225,
   "metadata": {
    "colab": {
     "base_uri": "https://localhost:8080/",
     "height": 282
    },
    "id": "qSGfamGbLAsm",
    "outputId": "733ce15f-ae75-466b-e7ee-eb3c9d9d534c"
   },
   "outputs": [
    {
     "name": "stdout",
     "output_type": "stream",
     "text": [
      "MSE: 0.133\n"
     ]
    },
    {
     "data": {
      "text/plain": [
       "[<matplotlib.lines.Line2D at 0x215d4493150>]"
      ]
     },
     "execution_count": 225,
     "metadata": {},
     "output_type": "execute_result"
    },
    {
     "data": {
      "image/png": "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",
      "text/plain": [
       "<Figure size 640x480 with 1 Axes>"
      ]
     },
     "metadata": {},
     "output_type": "display_data"
    }
   ],
   "source": [
    "a = np.random.rand()\n",
    "b = np.random.rand()\n",
    "print(f\"MSE: {mse(y, a * x + b):.3f}\")\n",
    "\n",
    "plt.scatter(x, y)\n",
    "plt.plot(x, a * x + b, color=\"g\", linewidth=4)"
   ]
  },
  {
   "cell_type": "markdown",
   "metadata": {
    "id": "Y--E9Mp9LAsn"
   },
   "source": [
    "Losowe parametry radzą sobie nie najlepiej. Jak lepiej dopasować naszą prostą do danych? Zawsze możemy starać się wyprowadzić rozwiązanie analitycznie, i w tym wypadku nawet nam się uda. Jest to jednak szczególny i dość rzadki przypadek, a w szczególności nie będzie to możliwe w większych sieciach neuronowych.\n",
    "\n",
    "Potrzebna nam będzie **metoda optymalizacji (optimization method)**, dającą wartości parametrów minimalizujące dowolną różniczkowalną funkcję kosztu. Zdecydowanie najpopularniejszy jest tutaj **spadek wzdłuż gradientu (gradient descent)**.\n",
    "\n",
    "Metoda ta wywodzi się z prostych obserwacji, które tutaj przedstawimy. Bardziej szczegółowe rozwinięcie dla zainteresowanych: [sekcja 4.3 \"Deep Learning Book\"](https://www.deeplearningbook.org/contents/numerical.html), [ten praktyczny kurs](https://cs231n.github.io/optimization-1/), [analiza oryginalnej publikacji Cauchy'ego](https://www.math.uni-bielefeld.de/documenta/vol-ismp/40_lemarechal-claude.pdf) (oryginał w języku francuskim).\n",
    "\n",
    "Pochodna jest dokładnie równa granicy funkcji. Dla małego $\\epsilon$ można ją przybliżyć jako:\n",
    "$$\\large\n",
    "\\frac{f(x)}{dx} \\approx \\frac{f(x) - f(x+\\epsilon)}{\\epsilon}\n",
    "$$\n",
    "\n",
    "Przyglądając się temu równaniu widzimy, że: \n",
    "* dla funkcji rosnącej ($f(x+\\epsilon) > f(x)$) wyrażenie $\\frac{f(x)}{dx}$ będzie miało znak ujemny \n",
    "* dla funkcji malejącej ($f(x+\\epsilon) < f(x)$) wyrażenie $\\frac{f(x)}{dx}$ będzie miało znak dodatni \n",
    "\n",
    "Widzimy więc, że potrafimy wskazać kierunek zmniejszenia wartości funkcji, patrząc na znak pochodnej. Zaobserwowano także, że amplituda wartości w $\\frac{f(x)}{dx}$ jest tym większa, im dalej jesteśmy od minimum (maximum). Pochodna wyznacza więc, w jakim kierunku funkcja najszybciej rośnie, więc kierunek o przeciwnym zwrocie to kierunek, w którym funkcja najszybciej spada.\n",
    "\n",
    "Stosując powyższe do optymalizacji, mamy:\n",
    "$$\\large\n",
    "x_{t+1} = x_{t} -  \\alpha * \\frac{f(x)}{dx}\n",
    "$$\n",
    "\n",
    "$\\alpha$ to niewielka wartość (rzędu zwykle $10^{-5}$ - $10^{-2}$), wprowadzona, aby trzymać się założenia o małej zmianie parametrów ($\\epsilon$). Nazywa się ją **stałą uczącą (learning rate)** i jest zwykle najważniejszym hiperparametrem podczas nauki sieci.\n",
    "\n",
    "Metoda ta zakłada, że używamy całego zbioru danych do aktualizacji parametrów w każdym kroku, co nazywa się po prostu GD (od *gradient descent*) albo *full batch GD*. Wtedy każdy krok optymalizacji nazywa się **epoką (epoch)**.\n",
    "\n",
    "Im większa stała ucząca, tym większe nasze kroki podczas minimalizacji. Możemy więc uczyć szybciej, ale istnieje ryzyko, że będziemy \"przeskakiwać\" minima. Mniejsza stała ucząca to wolniejszy trening, ale dokładniejszy. Można także zmieniać ją podczas treningu, co nazywa się **learning rate scheduling (LR scheduling)**. Obrazowo:\n",
    "\n",
    "![learning_rate](http://www.bdhammel.com/assets/learning-rate/lr-types.png)"
   ]
  },
  {
   "cell_type": "markdown",
   "metadata": {
    "id": "496qEjkVLAso"
   },
   "source": [
    "![interactive LR](http://cdn-images-1.medium.com/max/640/1*eeIvlwkMNG1wSmj3FR6M2g.gif)"
   ]
  },
  {
   "cell_type": "markdown",
   "metadata": {
    "id": "RYkyAHKzLAsp"
   },
   "source": [
    "Policzmy więc pochodną dla naszej funkcji kosztu MSE. Pochodną liczymy po predykcjach naszego modelu, czyli de facto po jego parametrach, bo to od nich zależą predykcje.\n",
    "$$\\large\n",
    "\\frac{\\text{d} MSE}{\\text{d} \\hat{y}} = -2 \\cdot \\frac{1}{N} \\sum_{i=1}^{N} (y_i - \\hat{y}_i) = -2 \\cdot \\frac{1}{N} \\sum_{i=1}^{N} (y_i - (ax + b))\n",
    "$$\n",
    "\n",
    "Musimy jeszcze się dowiedzieć, jak zaktualizować każdy z naszych parametrów. Możemy wykorzystać tutaj regułę łańcuchową (*chain rule*) i policzyć ponownie pochodną, tylko że po naszych parametrach. Dzięki temu dostajemy informację, jak każdy z parametrów wpływa na funkcję kosztu i jak zmodyfikować każdy z nich w kolejnym kroku.\n",
    "$$\\large\n",
    "\\frac{\\text{d} \\hat{y}}{\\text{d} a} = x\n",
    "$$\n",
    "\n",
    "$$\\large\n",
    "\\frac{\\text{d} \\hat{y}}{\\text{d} b} = 1\n",
    "$$\n",
    "\n",
    "Pełna aktualizacja to zatem:\n",
    "$$\\large\n",
    "a' = a + \\alpha * \\left( \\frac{-2}{N} \\sum_{i=1}^N (y_i - \\hat{y}_i) * (-x) \\right)\n",
    "$$\n",
    "$$\\large\n",
    "b' = b + \\alpha * \\left( \\frac{-2}{N} \\sum_{i=1}^N (y_i - \\hat{y}_i) * (-1) \\right)\n",
    "$$\n",
    "\n",
    "Liczymy więc pochodną funkcji kosztu, a potem za pomocą reguły łańcuchowej \"cofamy się\", dochodząc do tego, jak każdy z parametrów wpływa na błąd i w jaki sposób powinniśmy go zmienić. Nazywa się to **propagacją wsteczną (backpropagation)** i jest podstawowym mechanizmem umożliwiającym naukę sieci neuronowych za pomocą spadku wzdłuż gradientu. Więcej możesz o tym przeczytać [tutaj](https://cs231n.github.io/optimization-2/).\n",
    "\n",
    "Obliczenie pochodnych cząstkowych ze względu na każdy \n",
    "\n",
    "\n",
    "#### Zadanie 2 (1.5 punkty)\n",
    "\n",
    "Zaimplementuj funkcję realizującą jedną epokę treningową. Oblicz predykcję przy aktualnych parametrach oraz zaktualizuj je zgodnie z powyższymi wzorami."
   ]
  },
  {
   "cell_type": "code",
   "execution_count": 226,
   "metadata": {
    "colab": {
     "base_uri": "https://localhost:8080/"
    },
    "id": "4qbdWOSULAsp",
    "outputId": "055607ae-87aa-470a-e6da-25682c82d470"
   },
   "outputs": [],
   "source": [
    "def optimize(x: np.ndarray, y: np.ndarray, a: float, b: float, learning_rate: float = 0.1):\n",
    "    y_hat = a * x + b\n",
    "    errors = y - y_hat\n",
    "    new_a = a - 2 * learning_rate * np.sum(-errors @ x) / len(y)\n",
    "    new_b = b - 2 * learning_rate * np.sum(-errors) / len(y)\n",
    "\n",
    "    return new_a, new_b"
   ]
  },
  {
   "cell_type": "code",
   "execution_count": 227,
   "metadata": {},
   "outputs": [
    {
     "name": "stdout",
     "output_type": "stream",
     "text": [
      "step 0 loss:  0.1330225119404028\n",
      "step 100 loss:  0.012673197778527677\n",
      "step 200 loss:  0.010257153540857817\n",
      "step 300 loss:  0.0100948037549359\n",
      "step 400 loss:  0.010083894412889118\n",
      "step 500 loss:  0.010083161342973332\n",
      "step 600 loss:  0.010083112083219709\n",
      "step 700 loss:  0.010083108773135261\n",
      "step 800 loss:  0.010083108550709076\n",
      "step 900 loss:  0.01008310853576281\n",
      "final loss: 0.010083108534760455\n"
     ]
    }
   ],
   "source": [
    "for i in range(1000):\n",
    "    loss = mse(y, a * x + b)\n",
    "    a, b = optimize(x, y, a, b)\n",
    "    if i % 100 == 0:\n",
    "        print(f\"step {i} loss: \", loss)\n",
    "\n",
    "print(\"final loss:\", loss)"
   ]
  },
  {
   "cell_type": "code",
   "execution_count": 228,
   "metadata": {
    "colab": {
     "base_uri": "https://localhost:8080/",
     "height": 282
    },
    "id": "xOgRcPC1LAsq",
    "outputId": "85b0b3e4-aa0d-467a-d8ff-5f01be17b243",
    "scrolled": false
   },
   "outputs": [
    {
     "data": {
      "text/plain": [
       "[<matplotlib.lines.Line2D at 0x215d43dc850>]"
      ]
     },
     "execution_count": 228,
     "metadata": {},
     "output_type": "execute_result"
    },
    {
     "data": {
      "image/png": "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",
      "text/plain": [
       "<Figure size 640x480 with 1 Axes>"
      ]
     },
     "metadata": {},
     "output_type": "display_data"
    }
   ],
   "source": [
    "plt.scatter(x, y)\n",
    "plt.plot(x, a * x + b, color=\"g\", linewidth=4)"
   ]
  },
  {
   "cell_type": "markdown",
   "metadata": {
    "id": "vOr2fWYpLAsq"
   },
   "source": [
    "Udało ci się wytrenować swoją pierwszą sieć neuronową. Czemu? Otóż neuron to po prostu wektor parametrów, a zwykle robimy iloczyn skalarny tych parametrów z wejściem. Dodatkowo na wyjście nakłada się **funkcję aktywacji (activation function)**, która przekształca wyjście. Tutaj takiej nie było, a właściwie była to po prostu funkcja identyczności.\n",
    "\n",
    "Oczywiście w praktyce korzystamy z odpowiedniego frameworka, który w szczególności:\n",
    "- ułatwia budowanie sieci, np. ma gotowe klasy dla warstw neuronów\n",
    "- ma zaimplementowane funkcje kosztu oraz ich pochodne\n",
    "- sam różniczkuje ze względu na odpowiednie parametry i aktualizuje je odpowiednio podczas treningu\n"
   ]
  },
  {
   "cell_type": "markdown",
   "metadata": {
    "id": "NJBYJabuLAsr"
   },
   "source": [
    "## Wprowadzenie do PyTorcha"
   ]
  },
  {
   "cell_type": "markdown",
   "metadata": {
    "id": "EB-99XqhLAsr"
   },
   "source": [
    "PyTorch to w gruncie rzeczy narzędzie do algebry liniowej z [automatycznym rożniczkowaniem](https://pytorch.org/tutorials/beginner/blitz/autograd_tutorial.html), z możliwością przyspieszenia obliczeń z pomocą GPU. Na tych fundamentach zbudowany jest pełny framework do uczenia głębokiego. Można spotkać się ze stwierdzenie, że PyTorch to NumPy + GPU + opcjonalne różniczkowanie, co jest całkiem celne. Plus można łatwo debugować printem :)\n",
    "\n",
    "PyTorch używa dynamicznego grafu obliczeń, który sami definiujemy w kodzie. Takie podejście jest bardzo wygodne, elastyczne i pozwala na łatwe eksperymentowanie. Odbywa się to potencjalnie kosztem wydajności, ponieważ pozostawia kwestię optymalizacji programiście. Więcej na ten temat dla zainteresowanych na końcu laboratorium.\n",
    "\n",
    "Samo API PyTorcha bardzo przypomina Numpy'a, a podstawowym obiektem jest `Tensor`, klasa reprezentująca tensory dowolnego wymiaru. Dodatkowo niektóre tensory będą miały automatycznie obliczony gradient. Co ważne, tensor jest na pewnym urządzeniu, CPU lub GPU, a przenosić między nimi trzeba explicite.\n",
    "\n",
    "Najważniejsze moduły:\n",
    "- `torch` - podstawowe klasy oraz funkcje, np. `Tensor`, `from_numpy()`\n",
    "- `torch.nn` - klasy związane z sieciami neuronowymi, np. `Linear`, `Sigmoid`\n",
    "- `torch.optim` - wszystko związane z optymalizacją, głównie spadkiem wzdłuż gradientu"
   ]
  },
  {
   "cell_type": "code",
   "execution_count": 229,
   "metadata": {
    "id": "FwuIt8S-LAss"
   },
   "outputs": [],
   "source": [
    "import torch\n",
    "import torch.nn as nn\n",
    "import torch.optim as optim"
   ]
  },
  {
   "cell_type": "code",
   "execution_count": 230,
   "metadata": {
    "colab": {
     "base_uri": "https://localhost:8080/"
    },
    "id": "bfCiUFXULAss",
    "outputId": "83f6231d-ecc4-461a-b758-fdc4bc2a88a4"
   },
   "outputs": [
    {
     "name": "stdout",
     "output_type": "stream",
     "text": [
      "tensor([1.0616, 1.2635, 1.2027, 1.7692, 1.3046, 1.9495, 1.5304, 1.2321, 1.4508,\n",
      "        1.2447])\n",
      "tensor([0.0616, 0.2635, 0.2027, 0.7692, 0.3046, 0.9495, 0.5304, 0.2321, 0.4508,\n",
      "        0.2447])\n",
      "tensor(4.0090)\n"
     ]
    }
   ],
   "source": [
    "ones = torch.ones(10)\n",
    "noise = torch.ones(10) * torch.rand(10)\n",
    "\n",
    "# elementwise sum\n",
    "print(ones + noise)\n",
    "\n",
    "# elementwise multiplication\n",
    "print(ones * noise)\n",
    "\n",
    "# dot product\n",
    "print(ones @ noise)"
   ]
  },
  {
   "cell_type": "code",
   "execution_count": 231,
   "metadata": {
    "id": "ynNd_kD0LAst"
   },
   "outputs": [],
   "source": [
    "# beware - shares memory with original Numpy array!\n",
    "# very fast, but modifications are visible to original variable\n",
    "x = torch.from_numpy(x)\n",
    "y = torch.from_numpy(y)"
   ]
  },
  {
   "cell_type": "markdown",
   "metadata": {
    "id": "W9kkxczELAsu"
   },
   "source": [
    "Jeżeli dla stworzonych przez nas tensorów chcemy śledzić operacje i obliczać gradient, to musimy oznaczyć `requires_grad=True`."
   ]
  },
  {
   "cell_type": "code",
   "execution_count": 232,
   "metadata": {
    "colab": {
     "base_uri": "https://localhost:8080/"
    },
    "id": "8HtZL-KfLAsu",
    "outputId": "47c6d930-5678-452a-95bc-227935138b40"
   },
   "outputs": [
    {
     "data": {
      "text/plain": [
       "(tensor([0.5155], requires_grad=True), tensor([0.8355], requires_grad=True))"
      ]
     },
     "execution_count": 232,
     "metadata": {},
     "output_type": "execute_result"
    }
   ],
   "source": [
    "a = torch.rand(1, requires_grad=True)\n",
    "b = torch.rand(1, requires_grad=True)\n",
    "a, b"
   ]
  },
  {
   "cell_type": "markdown",
   "metadata": {
    "id": "Nl1guWZ_LAsv"
   },
   "source": [
    "PyTorch zawiera większość powszechnie używanych funkcji kosztu, np. MSE. Mogą być one używane na 2 sposoby, z czego pierwszy jest popularniejszy:\n",
    "- jako klasy wywoływalne z modułu `torch.nn`\n",
    "- jako funkcje z modułu `torch.nn.functional`\n",
    "\n",
    "Po wykonaniu poniższego kodu widzimy, że zwraca on nam tensor z dodatkowymi atrybutami. Co ważne, jest to skalar (0-wymiarowy tensor), bo potrzebujemy zwyczajnej liczby do obliczania propagacji wstecznych (pochodnych czątkowych)."
   ]
  },
  {
   "cell_type": "code",
   "execution_count": 233,
   "metadata": {},
   "outputs": [
    {
     "data": {
      "text/plain": [
       "tensor(0.3726, dtype=torch.float64, grad_fn=<MseLossBackward0>)"
      ]
     },
     "execution_count": 233,
     "metadata": {},
     "output_type": "execute_result"
    }
   ],
   "source": [
    "mse = nn.MSELoss()\n",
    "mse(y, a * x + b)"
   ]
  },
  {
   "cell_type": "markdown",
   "metadata": {
    "id": "vS35r49nLAsw"
   },
   "source": [
    "Atrybutu `grad_fn` nie używamy wprost, bo korzysta z niego w środku PyTorch, ale widać, że tensor jest \"świadomy\", że liczy się na nim pochodną. Możemy natomiast skorzystać z atrybutu `grad`, który zawiera faktyczny gradient. Zanim go jednak dostaniemy, to trzeba powiedzieć PyTorchowi, żeby policzył gradient. Służy do tego metoda `.backward()`, wywoływana na obiekcie zwracanym przez funkcję kosztu."
   ]
  },
  {
   "cell_type": "code",
   "execution_count": 234,
   "metadata": {
    "id": "Qb7l6Xg1LAsx"
   },
   "outputs": [],
   "source": [
    "loss = mse(y, a * x + b)\n",
    "loss.backward()"
   ]
  },
  {
   "cell_type": "code",
   "execution_count": 235,
   "metadata": {
    "colab": {
     "base_uri": "https://localhost:8080/"
    },
    "id": "6LfQbLVoLAsx",
    "outputId": "d5b87fb7-d284-423c-f467-b677384b2f67"
   },
   "outputs": [
    {
     "name": "stdout",
     "output_type": "stream",
     "text": [
      "tensor([0.5100])\n"
     ]
    }
   ],
   "source": [
    "print(a.grad)"
   ]
  },
  {
   "cell_type": "markdown",
   "metadata": {
    "id": "Kdf1iweELAsy"
   },
   "source": [
    "Ważne jest, że PyTorch nie liczy za każdym razem nowego gradientu, tylko dodaje go do istniejącego, czyli go akumuluje. Jest to przydatne w niektórych sieciach neuronowych, ale zazwyczaj trzeba go zerować. Jeżeli tego nie zrobimy, to dostaniemy coraz większe gradienty.\n",
    "\n",
    "Do zerowania służy metoda `.zero_()`. W PyTorchu wszystkie metody modyfikujące tensor w miejscu mają `_` na końcu nazwy. Jest to dość niskopoziomowa operacja dla pojedynczych tensorów - zobaczymy za chwilę, jak to robić łatwiej dla całej sieci."
   ]
  },
  {
   "cell_type": "code",
   "execution_count": 236,
   "metadata": {
    "colab": {
     "base_uri": "https://localhost:8080/"
    },
    "id": "DiCQZKJsLAsy",
    "outputId": "2f779622-480d-43fc-b9d0-a0e36ff4b28b"
   },
   "outputs": [
    {
     "data": {
      "text/plain": [
       "tensor([1.0199])"
      ]
     },
     "execution_count": 236,
     "metadata": {},
     "output_type": "execute_result"
    }
   ],
   "source": [
    "loss = mse(y, a * x + b)\n",
    "loss.backward()\n",
    "a.grad"
   ]
  },
  {
   "cell_type": "markdown",
   "metadata": {
    "id": "xNC3Ag8uLAsz"
   },
   "source": [
    "Zobaczmy, jak wyglądałaby regresja liniowa, ale napisana w PyTorchu. Jest to oczywiście bardzo niskopoziomowa implementacja - za chwilę zobaczymy, jak to wygląda w praktyce."
   ]
  },
  {
   "cell_type": "code",
   "execution_count": 237,
   "metadata": {
    "colab": {
     "base_uri": "https://localhost:8080/"
    },
    "id": "AKnxyeboLAsz",
    "outputId": "2f939474-901a-4773-9704-686a40ae6e8e"
   },
   "outputs": [
    {
     "name": "stdout",
     "output_type": "stream",
     "text": [
      "step 0 loss:  tensor(0.3726, dtype=torch.float64, grad_fn=<MseLossBackward0>)\n",
      "step 100 loss:  tensor(0.0127, dtype=torch.float64, grad_fn=<MseLossBackward0>)\n",
      "step 200 loss:  tensor(0.0103, dtype=torch.float64, grad_fn=<MseLossBackward0>)\n",
      "step 300 loss:  tensor(0.0101, dtype=torch.float64, grad_fn=<MseLossBackward0>)\n",
      "step 400 loss:  tensor(0.0101, dtype=torch.float64, grad_fn=<MseLossBackward0>)\n",
      "step 500 loss:  tensor(0.0101, dtype=torch.float64, grad_fn=<MseLossBackward0>)\n",
      "step 600 loss:  tensor(0.0101, dtype=torch.float64, grad_fn=<MseLossBackward0>)\n",
      "step 700 loss:  tensor(0.0101, dtype=torch.float64, grad_fn=<MseLossBackward0>)\n",
      "step 800 loss:  tensor(0.0101, dtype=torch.float64, grad_fn=<MseLossBackward0>)\n",
      "step 900 loss:  tensor(0.0101, dtype=torch.float64, grad_fn=<MseLossBackward0>)\n",
      "final loss: tensor(0.0101, dtype=torch.float64, grad_fn=<MseLossBackward0>)\n"
     ]
    }
   ],
   "source": [
    "learning_rate = 0.1\n",
    "for i in range(1000):\n",
    "    loss = mse(y, a * x + b)\n",
    "\n",
    "    # compute gradients\n",
    "    loss.backward()\n",
    "\n",
    "    # update parameters\n",
    "    a.data -= learning_rate * a.grad\n",
    "    b.data -= learning_rate * b.grad\n",
    "\n",
    "    # zero gradients\n",
    "    a.grad.data.zero_()\n",
    "    b.grad.data.zero_()\n",
    "\n",
    "    if i % 100 == 0:\n",
    "        print(f\"step {i} loss: \", loss)\n",
    "\n",
    "print(\"final loss:\", loss)"
   ]
  },
  {
   "cell_type": "markdown",
   "metadata": {
    "id": "2DXNVhshmmI-"
   },
   "source": [
    "Trening modeli w PyTorchu jest dosyć schematyczny i najczęściej rozdziela się go na kilka bloków, dających razem **pętlę uczącą (training loop)**, powtarzaną w każdej epoce:\n",
    "1. Forward pass - obliczenie predykcji sieci\n",
    "2. Loss calculation\n",
    "3. Backpropagation - obliczenie pochodnych oraz zerowanie gradientów\n",
    "4. Optimalization - aktualizacja wag\n",
    "5. Other - ewaluacja na zbiorze walidacyjnym, logging etc."
   ]
  },
  {
   "cell_type": "code",
   "execution_count": 238,
   "metadata": {
    "colab": {
     "base_uri": "https://localhost:8080/"
    },
    "id": "2etpw7TNLAs0",
    "outputId": "8ac35c12-6c70-41ec-bf57-414456fc3c96",
    "scrolled": true
   },
   "outputs": [
    {
     "name": "stdout",
     "output_type": "stream",
     "text": [
      "step 0 loss: 0.1846\n",
      "step 100 loss: 0.0152\n",
      "step 200 loss: 0.0104\n",
      "step 300 loss: 0.0101\n",
      "step 400 loss: 0.0101\n",
      "step 500 loss: 0.0101\n",
      "step 600 loss: 0.0101\n",
      "step 700 loss: 0.0101\n",
      "step 800 loss: 0.0101\n",
      "step 900 loss: 0.0101\n",
      "final loss: tensor(0.0101, dtype=torch.float64, grad_fn=<MseLossBackward0>)\n"
     ]
    }
   ],
   "source": [
    "# initialization\n",
    "learning_rate = 0.1\n",
    "a = torch.rand(1, requires_grad=True)\n",
    "b = torch.rand(1, requires_grad=True)\n",
    "optimizer = torch.optim.SGD([a, b], lr=learning_rate)\n",
    "best_loss = float(\"inf\")\n",
    "\n",
    "# training loop in each epoch\n",
    "for i in range(1000):\n",
    "    # forward pass\n",
    "    y_hat = a * x + b\n",
    "\n",
    "    # loss calculation\n",
    "    loss = mse(y, y_hat)\n",
    "\n",
    "    # backpropagation\n",
    "    loss.backward()\n",
    "\n",
    "    # optimization\n",
    "    optimizer.step()\n",
    "    optimizer.zero_grad()  # zeroes all gradients - very convenient!\n",
    "\n",
    "    if i % 100 == 0:\n",
    "        if loss < best_loss:\n",
    "            best_model = (a.clone(), b.clone())\n",
    "            best_loss = loss\n",
    "        print(f\"step {i} loss: {loss.item():.4f}\")\n",
    "\n",
    "print(\"final loss:\", loss)"
   ]
  },
  {
   "cell_type": "markdown",
   "metadata": {},
   "source": [
    "Przejdziemy teraz do budowy sieci neuronowej do klasyfikacji. Typowo implementuje się ją po prostu jako sieć dla regresji, ale zwracającą tyle wyników, ile mamy klas, a potem aplikuje się na tym funkcję sigmoidalną (2 klasy) lub softmax (>2 klasy). W przypadku klasyfikacji binarnej zwraca się czasem tylko 1 wartość, przepuszczaną przez sigmoidę - wtedy wyjście z sieci to prawdopodobieństwo klasy pozytywnej.\n",
    "\n",
    "Funkcją kosztu zwykle jest **entropia krzyżowa (cross-entropy)**, stosowana też w klasycznej regresji logistycznej. Co ważne, sieci neuronowe, nawet tak proste, uczą się szybciej i stabilniej, gdy dane na wejściu (a przynajmniej zmienne numeryczne) są **ustandaryzowane (standardized)**. Operacja ta polega na odjęciu średniej i podzieleniu przez odchylenie standardowe (tzw. *Z-score transformation*).\n",
    "\n",
    "**Uwaga - PyTorch wymaga tensora klas będącego liczbami zmiennoprzecinkowymi!**"
   ]
  },
  {
   "cell_type": "markdown",
   "metadata": {},
   "source": [
    "## Zbiór danych"
   ]
  },
  {
   "cell_type": "markdown",
   "metadata": {},
   "source": [
    "Na tym laboratorium wykorzystamy zbiór [Adult Census](https://archive.ics.uci.edu/ml/datasets/adult). Dotyczy on przewidywania na podstawie danych demograficznych, czy dany człowiek zarabia powyżej 50 tysięcy dolarów miesięcznie, czy też mniej. Jest to cenna informacja np. przy planowaniu kampanii marketingowych. Jak możesz się domyślić, zbiór pochodzi z czasów, kiedy inflacja była dużo niższa :)\n",
    "\n",
    "Poniżej znajduje się kod do ściągnięcia i preprocessingu zbioru. Nie musisz go dokładnie analizować."
   ]
  },
  {
   "cell_type": "code",
   "execution_count": 239,
   "metadata": {
    "colab": {
     "base_uri": "https://localhost:8080/"
    },
    "id": "4DNsaZAnLAs0",
    "outputId": "70822008-530d-4173-deb9-8149a9fe5b41",
    "scrolled": true
   },
   "outputs": [],
   "source": [
    "# !wget https://archive.ics.uci.edu/ml/machine-learning-databases/adult/adult.data"
   ]
  },
  {
   "cell_type": "code",
   "execution_count": 240,
   "metadata": {},
   "outputs": [
    {
     "data": {
      "text/plain": [
       "array([' <=50K', ' >50K'], dtype=object)"
      ]
     },
     "execution_count": 240,
     "metadata": {},
     "output_type": "execute_result"
    }
   ],
   "source": [
    "import pandas as pd\n",
    "\n",
    "columns = [\n",
    "    \"age\",\n",
    "    \"workclass\",\n",
    "    \"fnlwgt\",\n",
    "    \"education\",\n",
    "    \"education-num\",\n",
    "    \"marital-status\",\n",
    "    \"occupation\",\n",
    "    \"relationship\",\n",
    "    \"race\",\n",
    "    \"sex\",\n",
    "    \"capital-gain\",\n",
    "    \"capital-loss\",\n",
    "    \"hours-per-week\",\n",
    "    \"native-country\",\n",
    "    \"wage\"\n",
    "]\n",
    "\n",
    "\"\"\"\n",
    "age: continuous.\n",
    "workclass: Private, Self-emp-not-inc, Self-emp-inc, Federal-gov, Local-gov, State-gov, Without-pay, Never-worked.\n",
    "fnlwgt: continuous.\n",
    "education: Bachelors, Some-college, 11th, HS-grad, Prof-school, Assoc-acdm, Assoc-voc, 9th, 7th-8th, 12th, Masters, 1st-4th, 10th, Doctorate, 5th-6th, Preschool.\n",
    "education-num: continuous.\n",
    "marital-status: Married-civ-spouse, Divorced, Never-married, Separated, Widowed, Married-spouse-absent, Married-AF-spouse.\n",
    "occupation: Tech-support, Craft-repair, Other-service, Sales, Exec-managerial, Prof-specialty, Handlers-cleaners, Machine-op-inspct, Adm-clerical, Farming-fishing, Transport-moving, Priv-house-serv, Protective-serv, Armed-Forces.\n",
    "relationship: Wife, Own-child, Husband, Not-in-family, Other-relative, Unmarried.\n",
    "race: White, Asian-Pac-Islander, Amer-Indian-Eskimo, Other, Black.\n",
    "sex: Female, Male.\n",
    "capital-gain: continuous.\n",
    "capital-loss: continuous.\n",
    "hours-per-week: continuous.\n",
    "native-country: United-States, Cambodia, England, Puerto-Rico, Canada, Germany, Outlying-US(Guam-USVI-etc), India, Japan, Greece, South, China, Cuba, Iran, Honduras, Philippines, Italy, Poland, Jamaica, Vietnam, Mexico, Portugal, Ireland, France, Dominican-Republic, Laos, Ecuador, Taiwan, Haiti, Columbia, Hungary, Guatemala, Nicaragua, Scotland, Thailand, Yugoslavia, El-Salvador, Trinadad&Tobago, Peru, Hong, Holand-Netherlands.\n",
    "\"\"\"\n",
    "\n",
    "df = pd.read_csv(\"adult.data\", header=None, names=columns)\n",
    "df.wage.unique()"
   ]
  },
  {
   "cell_type": "code",
   "execution_count": 241,
   "metadata": {},
   "outputs": [],
   "source": [
    "# attribution: https://www.kaggle.com/code/royshih23/topic7-classification-in-python\n",
    "df['education'].replace('Preschool', 'dropout',inplace=True)\n",
    "df['education'].replace('10th', 'dropout',inplace=True)\n",
    "df['education'].replace('11th', 'dropout',inplace=True)\n",
    "df['education'].replace('12th', 'dropout',inplace=True)\n",
    "df['education'].replace('1st-4th', 'dropout',inplace=True)\n",
    "df['education'].replace('5th-6th', 'dropout',inplace=True)\n",
    "df['education'].replace('7th-8th', 'dropout',inplace=True)\n",
    "df['education'].replace('9th', 'dropout',inplace=True)\n",
    "df['education'].replace('HS-Grad', 'HighGrad',inplace=True)\n",
    "df['education'].replace('HS-grad', 'HighGrad',inplace=True)\n",
    "df['education'].replace('Some-college', 'CommunityCollege',inplace=True)\n",
    "df['education'].replace('Assoc-acdm', 'CommunityCollege',inplace=True)\n",
    "df['education'].replace('Assoc-voc', 'CommunityCollege',inplace=True)\n",
    "df['education'].replace('Bachelors', 'Bachelors',inplace=True)\n",
    "df['education'].replace('Masters', 'Masters',inplace=True)\n",
    "df['education'].replace('Prof-school', 'Masters',inplace=True)\n",
    "df['education'].replace('Doctorate', 'Doctorate',inplace=True)\n",
    "\n",
    "df['marital-status'].replace('Never-married', 'NotMarried',inplace=True)\n",
    "df['marital-status'].replace(['Married-AF-spouse'], 'Married',inplace=True)\n",
    "df['marital-status'].replace(['Married-civ-spouse'], 'Married',inplace=True)\n",
    "df['marital-status'].replace(['Married-spouse-absent'], 'NotMarried',inplace=True)\n",
    "df['marital-status'].replace(['Separated'], 'Separated',inplace=True)\n",
    "df['marital-status'].replace(['Divorced'], 'Separated',inplace=True)\n",
    "df['marital-status'].replace(['Widowed'], 'Widowed',inplace=True)"
   ]
  },
  {
   "cell_type": "code",
   "execution_count": 242,
   "metadata": {
    "colab": {
     "base_uri": "https://localhost:8080/"
    },
    "id": "LiOxs_6mLAs1",
    "outputId": "c95418cf-2632-41d0-de0a-9caf109de113",
    "scrolled": true
   },
   "outputs": [
    {
     "name": "stderr",
     "output_type": "stream",
     "text": [
      "c:\\Users\\wajkt\\Desktop\\projects\\labs\\ai-lab\\.env\\Lib\\site-packages\\sklearn\\preprocessing\\_encoders.py:975: FutureWarning: `sparse` was renamed to `sparse_output` in version 1.2 and will be removed in 1.4. `sparse_output` is ignored unless you leave `sparse` to its default value.\n",
      "  warnings.warn(\n"
     ]
    },
    {
     "data": {
      "text/plain": [
       "((20838, 108), (20838,))"
      ]
     },
     "execution_count": 242,
     "metadata": {},
     "output_type": "execute_result"
    }
   ],
   "source": [
    "from sklearn.model_selection import train_test_split\n",
    "from sklearn.preprocessing import MinMaxScaler, OneHotEncoder, StandardScaler\n",
    "\n",
    "X = df.copy()\n",
    "y = (X.pop(\"wage\") == ' >50K').astype(int).values\n",
    "\n",
    "train_valid_size = 0.2\n",
    "\n",
    "X_train, X_test, y_train, y_test = train_test_split(\n",
    "    X, y, \n",
    "    test_size=train_valid_size, \n",
    "    random_state=0, \n",
    "    shuffle=True, \n",
    "    stratify=y\n",
    ")\n",
    "X_train, X_valid, y_train, y_valid = train_test_split(\n",
    "    X_train, y_train, \n",
    "    test_size=train_valid_size, \n",
    "    random_state=0, \n",
    "    shuffle=True, \n",
    "    stratify=y_train\n",
    ")\n",
    "\n",
    "continuous_cols = ['age', 'fnlwgt', 'education-num', 'capital-gain', 'capital-loss', 'hours-per-week']\n",
    "continuous_X_train = X_train[continuous_cols]\n",
    "categorical_X_train = X_train.loc[:, ~X_train.columns.isin(continuous_cols)]\n",
    "\n",
    "continuous_X_valid = X_valid[continuous_cols]\n",
    "categorical_X_valid = X_valid.loc[:, ~X_valid.columns.isin(continuous_cols)]\n",
    "\n",
    "continuous_X_test = X_test[continuous_cols]\n",
    "categorical_X_test = X_test.loc[:, ~X_test.columns.isin(continuous_cols)]\n",
    "\n",
    "categorical_encoder = OneHotEncoder(sparse=False, handle_unknown='ignore')\n",
    "continuous_scaler = StandardScaler() #MinMaxScaler(feature_range=(-1, 1))\n",
    "\n",
    "categorical_encoder.fit(categorical_X_train)\n",
    "continuous_scaler.fit(continuous_X_train)\n",
    "\n",
    "continuous_X_train = continuous_scaler.transform(continuous_X_train)\n",
    "continuous_X_valid = continuous_scaler.transform(continuous_X_valid)\n",
    "continuous_X_test = continuous_scaler.transform(continuous_X_test)\n",
    "\n",
    "categorical_X_train = categorical_encoder.transform(categorical_X_train)\n",
    "categorical_X_valid = categorical_encoder.transform(categorical_X_valid)\n",
    "categorical_X_test = categorical_encoder.transform(categorical_X_test)\n",
    "\n",
    "X_train = np.concatenate([continuous_X_train, categorical_X_train], axis=1)\n",
    "X_valid = np.concatenate([continuous_X_valid, categorical_X_valid], axis=1)\n",
    "X_test = np.concatenate([continuous_X_test, categorical_X_test], axis=1)\n",
    "\n",
    "X_train.shape, y_train.shape"
   ]
  },
  {
   "cell_type": "markdown",
   "metadata": {},
   "source": [
    "Uwaga co do typów - PyTorchu wszystko w sieci neuronowej musi być typu `float32`. W szczególności trzeba uważać na konwersje z Numpy'a, który używa domyślnie typu `float64`. Może ci się przydać metoda `.float()`.\n",
    "\n",
    "Uwaga co do kształtów wyjścia - wejścia do `nn.BCELoss` muszą być tego samego kształtu. Może ci się przydać metoda `.squeeze()` lub `.unsqueeze()`."
   ]
  },
  {
   "cell_type": "code",
   "execution_count": 243,
   "metadata": {
    "id": "qfRA3xEoLAs1"
   },
   "outputs": [],
   "source": [
    "X_train = torch.from_numpy(X_train).float()\n",
    "y_train = torch.from_numpy(y_train).float().unsqueeze(-1)\n",
    "\n",
    "X_valid = torch.from_numpy(X_valid).float()\n",
    "y_valid = torch.from_numpy(y_valid).float().unsqueeze(-1)\n",
    "\n",
    "X_test = torch.from_numpy(X_test).float()\n",
    "y_test = torch.from_numpy(y_test).float().unsqueeze(-1)"
   ]
  },
  {
   "cell_type": "markdown",
   "metadata": {},
   "source": [
    "Podobnie jak w laboratorium 2, mamy tu do czynienia z klasyfikacją niezbalansowaną:"
   ]
  },
  {
   "cell_type": "code",
   "execution_count": 244,
   "metadata": {},
   "outputs": [
    {
     "data": {
      "image/png": "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",
      "text/plain": [
       "<Figure size 640x480 with 1 Axes>"
      ]
     },
     "metadata": {},
     "output_type": "display_data"
    }
   ],
   "source": [
    "import matplotlib.pyplot as plt\n",
    "\n",
    "y_pos_perc = 100 * y_train.sum().item() / len(y_train)\n",
    "y_neg_perc = 100 - y_pos_perc\n",
    "\n",
    "plt.title(\"Class percentages\")\n",
    "plt.bar([\"<50k\", \">=50k\"], [y_neg_perc, y_pos_perc])\n",
    "plt.show()"
   ]
  },
  {
   "cell_type": "markdown",
   "metadata": {},
   "source": [
    "W związku z powyższym będziemy używać odpowiednich metryk, czyli AUROC, precyzji i czułości."
   ]
  },
  {
   "cell_type": "markdown",
   "metadata": {
    "id": "XLexWff-LAs0"
   },
   "source": [
    "#### Zadanie 3 (1 punkt)\n",
    "\n",
    "Zaimplementuj regresję logistyczną dla tego zbioru danych, używając PyTorcha. Dane wejściowe zostały dla ciebie przygotowane w komórkach poniżej.\n",
    "\n",
    "Sama sieć składa się z 2 elementów:\n",
    "- warstwa liniowa `nn.Linear`, przekształcająca wektor wejściowy na 1 wyjście - logit\n",
    "- aktywacja sigmoidalna `nn.Sigmoid`, przekształcająca logit na prawdopodobieństwo klasy pozytywnej\n",
    "\n",
    "Użyj binarnej entropii krzyżowej `nn.BCELoss` jako funkcji kosztu. Użyj optymalizatora SGD ze stałą uczącą `1e-3`. Trenuj przez 3000 epok. Pamiętaj, aby przekazać do optymalizatora `torch.optim.SGD` parametry sieci (metoda `.parameters()`)."
   ]
  },
  {
   "cell_type": "code",
   "execution_count": 245,
   "metadata": {
    "colab": {
     "base_uri": "https://localhost:8080/"
    },
    "id": "NbABKz5-LAs2",
    "outputId": "086dc0f3-0184-4072-9fd3-275b60dee2e4",
    "scrolled": true
   },
   "outputs": [
    {
     "name": "stdout",
     "output_type": "stream",
     "text": [
      "step 0 loss: 0.7406\n",
      "step 200 loss: 0.6646\n",
      "step 400 loss: 0.6120\n"
     ]
    },
    {
     "name": "stdout",
     "output_type": "stream",
     "text": [
      "step 600 loss: 0.5746\n",
      "step 800 loss: 0.5471\n",
      "step 1000 loss: 0.5261\n",
      "step 1200 loss: 0.5096\n",
      "step 1400 loss: 0.4962\n",
      "step 1600 loss: 0.4850\n",
      "step 1800 loss: 0.4755\n",
      "step 2000 loss: 0.4672\n",
      "step 2200 loss: 0.4600\n",
      "step 2400 loss: 0.4535\n",
      "step 2600 loss: 0.4477\n",
      "step 2800 loss: 0.4425\n",
      "final loss: 0.4377\n"
     ]
    }
   ],
   "source": [
    "learning_rate = 1e-3\n",
    "steps = 3000\n",
    "\n",
    "model = nn.Linear(in_features=X_train.size()[1], out_features=1)\n",
    "activation = nn.Sigmoid()\n",
    "optimizer = optim.SGD(params=model.parameters(), lr=learning_rate)\n",
    "loss_fn = nn.BCELoss()\n",
    "\n",
    "    \n",
    "# training loop in each epoch\n",
    "for i in range(steps):\n",
    "    # forward pass\n",
    "    y_pred = activation(model(X_train))\n",
    "    \n",
    "    # loss calculation\n",
    "    loss = loss_fn(y_pred, y_train)\n",
    "    \n",
    "    # backpropagation\n",
    "    loss.backward()\n",
    "    \n",
    "    # optimization\n",
    "    optimizer.step()\n",
    "    model.zero_grad()\n",
    "    \n",
    "    if i % 200 == 0:\n",
    "        print(f\"step {i} loss: {loss.item():.4f}\")\n",
    "    \n",
    "print(f\"final loss: {loss.item():.4f}\")"
   ]
  },
  {
   "cell_type": "markdown",
   "metadata": {},
   "source": [
    "Teraz trzeba sprawdzić, jak poszło naszej sieci. W PyTorchu sieć pracuje zawsze w jednym z dwóch trybów: treningowym lub ewaluacyjnym (predykcyjnym). Ten drugi wyłącza niektóre mechanizmy, które są używane tylko podczas treningu, w szczególności regularyzację dropout. Do przełączania służą metody modelu `.train()` i `.eval()`.\n",
    "\n",
    "Dodatkowo podczas liczenia predykcji dobrze jest wyłączyć liczenie gradientów, bo nie będą potrzebne, a oszczędza to czas i pamięć. Używa się do tego menadżera kontekstu `with torch.no_grad():`."
   ]
  },
  {
   "cell_type": "code",
   "execution_count": 246,
   "metadata": {
    "colab": {
     "base_uri": "https://localhost:8080/"
    },
    "id": "zH37zDX4LAs2",
    "outputId": "b1f93309-6f04-4ffc-b0ca-08d0a32120a0",
    "scrolled": true
   },
   "outputs": [
    {
     "name": "stdout",
     "output_type": "stream",
     "text": [
      "AUROC: 85.66%\n"
     ]
    }
   ],
   "source": [
    "from sklearn.metrics import precision_recall_curve, precision_recall_fscore_support, roc_auc_score\n",
    "\n",
    "model.eval()\n",
    "with torch.no_grad():\n",
    "    y_score = activation(model(X_test))\n",
    "\n",
    "auroc = roc_auc_score(y_test, y_score)\n",
    "print(f\"AUROC: {100 * auroc:.2f}%\")"
   ]
  },
  {
   "cell_type": "markdown",
   "metadata": {},
   "source": [
    "Jest to całkiem dobry wynik, a może być jeszcze lepszy. Sprawdźmy dla pewności jeszcze inne metryki: precyzję, recall oraz F1-score. Dodatkowo narysujemy krzywą precision-recall, czyli jak zmieniają się te metryki w zależności od przyjętego progu (threshold) prawdopodobieństwa, powyżej którego przyjmujemy klasę pozytywną. Taką krzywą należy rysować na zbiorze walidacyjnym, bo później chcemy wykorzystać tę informację do doboru progu, a nie chcemy mieć wycieku danych testowych (data leakage).\n",
    "\n",
    "Poniżej zaimplementowano także funkcję `get_optimal_threshold()`, która sprawdza, dla którego progu uzyskujemy maksymalny F1-score, i zwraca indeks oraz wartość optymalnego progu. Przyda ci się ona w dalszej części laboratorium."
   ]
  },
  {
   "cell_type": "code",
   "execution_count": 247,
   "metadata": {},
   "outputs": [],
   "source": [
    "from sklearn.metrics import PrecisionRecallDisplay\n",
    "\n",
    "\n",
    "def get_optimal_threshold(\n",
    "    precisions: np.array, \n",
    "    recalls: np.array, \n",
    "    thresholds: np.array\n",
    ") -> Tuple[int, float]:\n",
    "    \n",
    "    # fix for zero division error\n",
    "    epsilon = 1e-12\n",
    "    denominators = precisions + recalls\n",
    "    denominators[denominators == 0] = epsilon\n",
    "\n",
    "    f1_scores = 2 * precisions * recalls / denominators\n",
    "    \n",
    "    optimal_idx = np.nanargmax(f1_scores)\n",
    "    optimal_threshold = thresholds[optimal_idx]\n",
    "    \n",
    "    return optimal_idx, optimal_threshold\n",
    "\n",
    "\n",
    "def plot_precision_recall_curve(y_true, y_pred_score) -> None:\n",
    "    precisions, recalls, thresholds = precision_recall_curve(y_true, y_pred_score)\n",
    "    optimal_idx, optimal_threshold = get_optimal_threshold(precisions, recalls, thresholds)\n",
    "\n",
    "    disp = PrecisionRecallDisplay(precisions, recalls)\n",
    "    disp.plot()\n",
    "    plt.title(f\"Precision-recall curve (opt. thresh.: {optimal_threshold:.4f})\")\n",
    "    plt.axvline(recalls[optimal_idx], color=\"green\", linestyle=\"-.\")\n",
    "    plt.axhline(precisions[optimal_idx], color=\"green\", linestyle=\"-.\")\n",
    "    plt.show()\n"
   ]
  },
  {
   "cell_type": "code",
   "execution_count": 248,
   "metadata": {},
   "outputs": [
    {
     "data": {
      "image/png": "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",
      "text/plain": [
       "<Figure size 640x480 with 1 Axes>"
      ]
     },
     "metadata": {},
     "output_type": "display_data"
    }
   ],
   "source": [
    "model.eval()\n",
    "with torch.no_grad():\n",
    "    y_pred_valid_score = activation(model(X_valid))\n",
    "\n",
    "plot_precision_recall_curve(y_valid, y_pred_valid_score)"
   ]
  },
  {
   "cell_type": "markdown",
   "metadata": {
    "id": "vfQPIUQ_LAs2"
   },
   "source": [
    "Jak widać, chociaż AUROC jest wysokie, to dla optymalnego F1-score recall nie jest zbyt wysoki, a precyzja jest już dość niska. Być może wynik uda się poprawić, używając modelu o większej pojemności - pełnej, głębokiej sieci neuronowej."
   ]
  },
  {
   "cell_type": "markdown",
   "metadata": {},
   "source": [
    "## Sieci neuronowe"
   ]
  },
  {
   "cell_type": "markdown",
   "metadata": {
    "id": "YP298w6Cq7T6"
   },
   "source": [
    "Wszystko zaczęło się od inspirowanych biologią [sztucznych neuronów](https://en.wikipedia.org/wiki/Artificial_neuron), których próbowano użyć do symulacji mózgu. Naukowcy szybko odeszli od tego podejścia (sam problem modelowania okazał się też znacznie trudniejszy, niż sądzono), zamiast tego używając neuronów jako jednostek reprezentującą dowolną funkcję parametryczną $f(x, \\Theta)$. Każdy neuron jest zatem bardzo elastyczny, bo jedyne wymagania to funkcja różniczkowalna, a mamy do tego wektor parametrów $\\Theta$.\n",
    "\n",
    "W praktyce najczęściej można spotkać się z kilkoma rodzinami sieci neuronowych:\n",
    "1. Perceptrony wielowarstwowe (*MultiLayer Perceptron*, MLP) - najbardziej podobne do powyższego opisu, niezbędne do klasyfikacji i regresji\n",
    "2. Konwolucyjne (*Convolutional Neural Networks*, CNNs) - do przetwarzania danych z zależnościami przestrzennymi, np. obrazów czy dźwięku\n",
    "3. Rekurencyjne (*Recurrent Neural Networks*, RNNs) - do przetwarzania danych z zależnościami sekwencyjnymi, np. szeregi czasowe, oraz kiedyś do języka naturalnego\n",
    "4. Transformacyjne (*Transformers*), oparte o mechanizm atencji (*attention*) - do przetwarzania języka naturalnego (NLP), z którego wyparły RNNs, a coraz częściej także do wszelkich innych danych, np. obrazów, dźwięku\n",
    "5. Grafowe (*Graph Neural Networks*, GNNS) - do przetwarzania grafów\n",
    "\n",
    "Na tym laboratorium skupimy się na najprostszej architekturze, czyli MLP. Jest ona powszechnie łączona z wszelkimi innymi architekturami, bo pozwala dokonywać klasyfikacji i regresji. Przykładowo, klasyfikacja obrazów to zwykle CNN + MLP, klasyfikacja tekstów to transformer + MLP, a regresja na grafach to GNN + MLP.\n",
    "\n",
    "Dodatkowo, pomimo prostoty MLP są bardzo potężne - udowodniono, że perceptrony (ich powszechna nazwa) są [uniwersalnym aproksymatorem](https://www.sciencedirect.com/science/article/abs/pii/0893608089900208), będącym w stanie przybliżyć dowolną funkcję z odpowiednio małym błędem, zakładając wystarczającą wielkość warstw sieci. Szczególne ich wersje potrafią nawet [reprezentować drzewa decyzyjne](https://www.youtube.com/watch?v=_okxGdHM5b8).\n",
    "\n",
    "Dla zainteresowanych polecamy [doskonałą książkę \"Dive into Deep Learning\", z implementacjami w PyTorchu](https://d2l.ai/chapter_multilayer-perceptrons/index.html), [klasyczną książkę \"Deep Learning Book\"](https://www.deeplearningbook.org/contents/mlp.html), oraz [ten filmik](https://www.youtube.com/watch?v=BFHrIxKcLjA), jeśli zastanawiałeś/-aś się, czemu używamy deep learning, a nie naprzykład (wide?) learning. (aka. czemu staramy się budować głębokie sieci, a nie płytkie za to szerokie)"
   ]
  },
  {
   "attachments": {
    "1_x-3NGQv0pRIab8xDT-f_Hg.png": {
     "image/png": "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"
    }
   },
   "cell_type": "markdown",
   "metadata": {
    "id": "S_ZjoGBU5upj"
   },
   "source": [
    "### Sieci MLP\n",
    "\n",
    "Dla przypomnienia, na wejściu mamy punkty ze zbioru treningowego, czyli $d$-wymiarowe wektory. W klasyfikacji chcemy znaleźć granicę decyzyjną, czyli krzywą, która oddzieli od siebie klasy. W wejściowej przestrzeni może być to trudne, bo chmury punktów z poszczególnych klas mogą być ze sobą dość pomieszane. Pamiętajmy też, że regresja logistyczna jest klasyfikatorem liniowym, czyli w danej przestrzeni potrafi oddzielić punkty tylko linią prostą.\n",
    "\n",
    "Sieć MLP składa się z warstw. Każda z nich dokonuje nieliniowego przekształcenia przestrzeni (można o tym myśleć jak o składaniu przestrzeni jakąś prostą/łamaną), tak, aby w finalnej przestrzeni nasze punkty były możliwie liniowo separowalne. Wtedy ostatnia warstwa z sigmoidą będzie potrafiła je rozdzielić od siebie.\n",
    "\n",
    "![1_x-3NGQv0pRIab8xDT-f_Hg.png](attachment:1_x-3NGQv0pRIab8xDT-f_Hg.png)\n",
    "\n",
    "Poszczególne neurony składają się z iloczynu skalarnego wejść z wagami neuronu, oraz nieliniowej funkcji aktywacji. W PyTorchu są to osobne obiekty - `nn.Linear` oraz np. `nn.Sigmoid`. Funkcja aktywacji przyjmuje wynik iloczynu skalarnego i przekształca go, aby sprawdzić, jak mocno reaguje neuron na dane wejście. Musi być nieliniowa z dwóch powodów. Po pierwsze, tylko nieliniowe przekształcenia są na tyle potężne, żeby umożliwić liniową separację danych w ostatniej warstwie. Po drugie, liniowe przekształcenia zwyczajnie nie działają. Aby zrozumieć czemu, trzeba zobaczyć, co matematycznie oznacza sieć MLP.\n",
    "\n",
    "![perceptron](https://www.saedsayad.com/images/Perceptron_bkp_1.png)\n",
    "\n",
    "Zapisane matematycznie MLP to:\n",
    "$\n",
    "h_1 = f_1(x) \\\\\n",
    "h_2 = f_2(h_1) \\\\\n",
    "h_3 = f_3(h_2) \\\\\n",
    "...\n",
    "h_n = f_n(h_{n-1})\n",
    "$\n",
    "gdzie $x$ to wejście $f_i$ to funkcja aktywacji $i$-tej warstwy, a $h_i$ to wyjście $i$-tej warstwy, nazywane **ukrytą reprezentacją (hidden representation)**, lub *latent representation*. Nazwa bierze się z tego, że w środku sieci wyciągamy cechy i wzorce w danych, które nie są widoczne na pierwszy rzut oka na wejściu.\n",
    "\n",
    "Załóżmy, że nie mamy funkcji aktywacji, czyli mamy aktywację liniową $f(x) = x$. Zobaczmy na początku sieci:\n",
    "$\n",
    "h_1 = f_1(x) = x\n",
    "h_2 = f_2(f_1) = f_2(x) = x\n",
    "...\n",
    "h_n = f_n(f_{n-1}) = f_n(x) = x\n",
    "$\n",
    "Jak widać, taka sieć niczego się nie nauczy. Wynika to z tego, że złożenie funkcji liniowych jest także funkcją liniową - patrz notatki z algebry :)\n",
    "\n",
    "Jeżeli natomiast użyjemy nieliniowej funkcji aktywacji, często oznaczanej jako $\\sigma$, to wszystko będzie działać. Co ważne, ostatnia warstwa, dająca wyjście sieci, ma zwykle inną aktywację od warstw wewnątrz sieci, bo też ma inne zadanie - zwrócić wartość dla klasyfikacji lub regresji. Na wyjściu korzysta się z funkcji liniowej (regresja), sigmoidalnej (klasyfikacja binarna) lub softmax (klasyfikacja wieloklasowa).\n",
    "\n",
    "Wewnątrz sieci używano kiedyś sigmoidy oraz tangensa hiperbolicznego `tanh`, ale okazało się to nieefektywne przy uczeniu głębokich sieci o wielu warstwach. Nowoczesne sieci korzystają zwykle z funkcji ReLU (*rectified linear unit*), która jest zaskakująco prosta: $ReLU(x) = \\max(0, x)$. Okazało się, że bardzo dobrze nadaje się do treningu nawet bardzo głębokich sieci neuronowych. Nowsze funkcje aktywacji są głównie modyfikacjami ReLU.\n",
    "\n",
    "![relu](https://www.nomidl.com/wp-content/uploads/2022/04/image-10.png)"
   ]
  },
  {
   "cell_type": "markdown",
   "metadata": {},
   "source": [
    "### MLP w PyTorchu\n",
    "\n",
    "Warstwę neuronów w MLP nazywa się warstwą gęstą (*dense layer*) lub warstwą w pełni połączoną (*fully-connected layer*), i taki opis oznacza zwykle same neurony oraz funkcję aktywacji. PyTorch, jak już widzieliśmy, definiuje osobno transformację liniową oraz aktywację, a więc jedna warstwa składa się de facto z 2 obiektów, wywoływanych jeden po drugim. Inne frameworki, szczególnie wysokopoziomowe (np. Keras) łączą to często w jeden obiekt.\n",
    "\n",
    "MLP składa się zatem z sekwencji obiektów, które potem wywołuje się jeden po drugim, gdzie wyjście poprzedniego to wejście kolejnego. Ale nie można tutaj używać Pythonowych list! Z perspektywy PyTorcha to wtedy niezależne obiekty i nie zostanie wtedy przekazany między nimi gradient. Trzeba tutaj skorzystać z `nn.Sequential`, aby tworzyć taki pipeline.\n",
    "\n",
    "Rozmiary wejścia i wyjścia dla każdej warstwy trzeba w PyTorchu podawać explicite. Jest to po pierwsze edukacyjne, a po drugie często ułatwia wnioskowanie o działaniu sieci oraz jej debugowanie - mamy jasno podane, czego oczekujemy. Niektóre frameworki (np. Keras) obliczają to automatycznie.\n",
    "\n",
    "Co ważne, ostatnia warstwa zwykle nie ma funkcji aktywacji. Wynika to z tego, że obliczanie wielu funkcji kosztu (np. entropii krzyżowej) na aktywacjach jest często niestabilne numerycznie. Z tego powodu PyTorch oferuje funkcje kosztu zawierające w środku aktywację dla ostatniej warstwy, a ich implementacje są stabilne numerycznie. Przykładowo, `nn.BCELoss` przyjmuje wejście z zaaplikowanymi już aktywacjami, ale może skutkować under/overflow, natomiast `nn.BCEWithLogitsLoss` przyjmuje wejście bez aktywacji, a w środku ma specjalną implementację łączącą binarną entropię krzyżową z aktywacją sigmoidalną. Oczywiście w związku z tym aby dokonać potem predykcji w praktyce, trzeba pamiętać o użyciu funkcji aktywacji. Często korzysta się przy tym z funkcji z modułu `torch.nn.functional`, które są w tym wypadku nieco wygodniejsze od klas wywoływalnych z `torch.nn`.\n",
    "\n",
    "Całe sieci w PyTorchu tworzy się jako klasy dziedziczące po `nn.Module`. Co ważne, obiekty, z których tworzymy sieć, np. `nn.Linear`, także dziedziczą po tej klasie. Pozwala to na bardzo modułową budowę kodu, zgodną z zasadami OOP. W konstruktorze najpierw trzeba zawsze wywołać konstruktor rodzica - `super().__init__()`, a później tworzy się potrzebne obiekty i zapisuje jako atrybuty. Musimy też zdefiniować metodę `forward()`, która przyjmuje tensor `x` i zwraca wynik. Typowo ta metoda po prostu używa obiektów zdefiniowanych w konstruktorze.\n",
    "\n",
    "\n",
    "**UWAGA: nigdy w normalnych warunkach się nie woła metody `forward` ręcznie**"
   ]
  },
  {
   "cell_type": "markdown",
   "metadata": {
    "id": "J8niDgExAMDO"
   },
   "source": [
    "#### Zadanie 4 (1 punkt)\n",
    "\n",
    "Uzupełnij implementację 3-warstwowej sieci MLP. Użyj rozmiarów:\n",
    "* pierwsza warstwa: input_size x 256\n",
    "* druga warstwa: 256 x 128\n",
    "* trzecia warstwa: 128 x 1\n",
    "\n",
    "Użyj funkcji aktywacji ReLU.\n",
    "\n",
    "Przydatne klasy:\n",
    "- `nn.Sequential`\n",
    "- `nn.Linear`\n",
    "- `nn.ReLU`"
   ]
  },
  {
   "cell_type": "code",
   "execution_count": 249,
   "metadata": {
    "colab": {
     "base_uri": "https://localhost:8080/"
    },
    "id": "pZpuVDz1ALU5",
    "outputId": "cfe0d6ac-d2ce-43dd-cc22-837063f0f6bf"
   },
   "outputs": [],
   "source": [
    "from torch import sigmoid\n",
    "\n",
    "\n",
    "class MLP(nn.Module):\n",
    "    def __init__(self, input_size: int):\n",
    "        super().__init__()\n",
    "\n",
    "        self.mlp = nn.Sequential(\n",
    "            nn.Linear(input_size, 256),\n",
    "            nn.ReLU(),\n",
    "            nn.Linear(256, 128),\n",
    "            nn.ReLU(),\n",
    "            nn.Linear(128, 1)\n",
    "        )\n",
    "\n",
    "    def forward(self, x):\n",
    "        return self.mlp(x)\n",
    "\n",
    "    def predict_proba(self, x):\n",
    "        return sigmoid(self(x))\n",
    "    \n",
    "    def predict(self, x):\n",
    "        y_pred_score = self.predict_proba(x)\n",
    "        return torch.argmax(y_pred_score, dim=1)\n"
   ]
  },
  {
   "cell_type": "code",
   "execution_count": 250,
   "metadata": {},
   "outputs": [
    {
     "name": "stdout",
     "output_type": "stream",
     "text": [
      "Epoch 0 train loss: 0.6830\n",
      "Epoch 200 train loss: 0.6618\n",
      "Epoch 400 train loss: 0.6435\n",
      "Epoch 600 train loss: 0.6274\n",
      "Epoch 800 train loss: 0.6130\n",
      "Epoch 1000 train loss: 0.6000\n",
      "Epoch 1200 train loss: 0.5883\n",
      "Epoch 1400 train loss: 0.5777\n",
      "Epoch 1600 train loss: 0.5681\n",
      "Epoch 1800 train loss: 0.5593\n",
      "final loss: 0.5514\n"
     ]
    }
   ],
   "source": [
    "learning_rate = 1e-3\n",
    "model = MLP(input_size=X_train.shape[1])\n",
    "optimizer = torch.optim.SGD(model.parameters(), lr=learning_rate)\n",
    "\n",
    "# note that we are using loss function with sigmoid built in\n",
    "loss_fn = torch.nn.BCEWithLogitsLoss()\n",
    "num_epochs = 2000\n",
    "evaluation_steps = 200\n",
    "\n",
    "for i in range(num_epochs):\n",
    "    y_pred = model(X_train)\n",
    "    \n",
    "    loss = loss_fn(y_pred, y_train)\n",
    "    \n",
    "    loss.backward()\n",
    "\n",
    "    optimizer.step()\n",
    "    optimizer.zero_grad()\n",
    "\n",
    "    if i % evaluation_steps == 0:\n",
    "        print(f\"Epoch {i} train loss: {loss.item():.4f}\")\n",
    "\n",
    "print(f\"final loss: {loss.item():.4f}\")"
   ]
  },
  {
   "cell_type": "code",
   "execution_count": 251,
   "metadata": {
    "colab": {
     "base_uri": "https://localhost:8080/"
    },
    "id": "LP5GSup24dXU",
    "outputId": "05f332c4-5d94-41f6-f85b-17793d3c4b49"
   },
   "outputs": [
    {
     "name": "stdout",
     "output_type": "stream",
     "text": [
      "AUROC: 80.74%\n"
     ]
    },
    {
     "data": {
      "image/png": "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",
      "text/plain": [
       "<Figure size 640x480 with 1 Axes>"
      ]
     },
     "metadata": {},
     "output_type": "display_data"
    }
   ],
   "source": [
    "model.eval()\n",
    "with torch.no_grad():\n",
    "    # positive class probabilities\n",
    "    y_pred_valid_score = model.predict_proba(X_valid)\n",
    "    y_pred_test_score = model.predict_proba(X_test)\n",
    "\n",
    "auroc = roc_auc_score(y_test, y_pred_test_score)\n",
    "print(f\"AUROC: {100 * auroc:.2f}%\")\n",
    "\n",
    "plot_precision_recall_curve(y_valid, y_pred_valid_score)"
   ]
  },
  {
   "cell_type": "markdown",
   "metadata": {},
   "source": [
    "AUROC jest podobne, a precision i recall spadły - wypadamy wręcz gorzej od regresji liniowej! Skoro dodaliśmy więcej warstw, to może pojemność modelu jest teraz za duża i trzeba by go zregularyzować?\n",
    "\n",
    "Sieci neuronowe bardzo łatwo przeuczają, bo są bardzo elastycznymi i pojemnymi modelami. Dlatego mają wiele różnych rodzajów regularyzacji, których używa się razem. Co ciekawe, udowodniono eksperymentalnie, że zbyt duże sieci z mocną regularyzacją działają lepiej niż mniejsze sieci, odpowiedniego rozmiaru, za to ze słabszą regularyzacją.\n",
    "\n",
    "Pierwszy rodzaj regularyzacji to znana nam już **regularyzacja L2**, czyli penalizacja zbyt dużych wag. W kontekście sieci neuronowych nazywa się też ją czasem *weight decay*. W PyTorchu dodaje się ją jako argument do optymalizatora.\n",
    "\n",
    "Regularyzacja specyficzna dla sieci neuronowych to **dropout**. Polega on na losowym wyłączaniu zadanego procenta neuronów podczas treningu. Pomimo prostoty okazała się niesamowicie skuteczna, szczególnie w treningu bardzo głębokich sieci. Co ważne, jest to mechanizm używany tylko podczas treningu - w trakcie predykcji za pomocą sieci wyłącza się ten mechanizm i dokonuje normalnie predykcji całą siecią. Podejście to można potraktować jak ensemble learning, podobny do lasów losowych - wyłączając losowe części sieci, w każdej iteracji trenujemy nieco inną sieć, co odpowiada uśrednianiu predykcji różnych algorytmów. Typowo stosuje się dość mocny dropout, rzędu 25-50%. W PyTorchu implementuje go warstwa `nn.Dropout`, aplikowana zazwyczaj po funkcji aktywacji.\n",
    "\n",
    "Ostatni, a być może najważniejszy rodzaj regularyzacji to **wczesny stop (early stopping)**. W każdym kroku mocniej dostosowujemy terenową sieć do zbioru treningowego, a więc zbyt długi trening będzie skutkował przeuczeniem. W metodzie wczesnego stopu używamy wydzielonego zbioru walidacyjnego (pojedynczego, metoda holdout), sprawdzając co określoną liczbę epok wynik na tym zbiorze. Jeżeli nie uzyskamy wyniku lepszego od najlepszego dotychczas uzyskanego przez określoną liczbę epok, to przerywamy trening. Okres, przez który czekamy na uzyskanie lepszego wyniku, to cierpliwość (*patience*). Im mniejsze, tym mocniejszy jest ten rodzaj regularyzacji, ale trzeba z tym uważać, bo łatwo jest przesadzić i zbyt szybko przerywać trening. Niektóre implementacje uwzględniają tzw. *grace period*, czyli gwarantowaną minimalną liczbę epok, przez którą będziemy trenować sieć, niezależnie od wybranej cierpliwości.\n",
    "\n",
    "Dodatkowo ryzyko przeuczenia można zmniejszyć, używając mniejszej stałej uczącej."
   ]
  },
  {
   "cell_type": "markdown",
   "metadata": {},
   "source": [
    "#### Zadanie 5 (1 punkt)\n",
    "\n",
    "Zaimplementuj funkcję `evaluate_model()`, obliczającą metryki na zbiorze testowym:\n",
    "- wartość funkcji kosztu (loss)\n",
    "- AUROC\n",
    "- optymalny próg\n",
    "- F1-score przy optymalnym progu\n",
    "- precyzję oraz recall dla optymalnego progu\n",
    "\n",
    "Jeżeli podana jest wartość argumentu `threshold`, to użyj jej do zamiany prawdopodobieństw na twarde predykcje. W przeciwnym razie użyj funkcji `get_optimal_threshold` i oblicz optymalną wartość progu.\n",
    "\n",
    "Pamiętaj o przełączeniu modelu w tryb ewaluacji oraz o wyłączeniu obliczania gradientów."
   ]
  },
  {
   "cell_type": "code",
   "execution_count": 252,
   "metadata": {},
   "outputs": [],
   "source": [
    "from typing import Optional\n",
    "\n",
    "from sklearn.metrics import precision_score, recall_score, f1_score\n",
    "from torch import sigmoid\n",
    "\n",
    "\n",
    "def evaluate_model(\n",
    "    model: nn.Module, \n",
    "    X: torch.Tensor, \n",
    "    y: torch.Tensor, \n",
    "    loss_fn: nn.Module,\n",
    "    threshold: Optional[float]= None\n",
    ") -> Dict[str, float]:\n",
    "\n",
    "    model.eval()\n",
    "\n",
    "    with torch.no_grad():\n",
    "        y_pred_prob = model.predict_proba(X)\n",
    "        loss = loss_fn(y_pred_prob, y)\n",
    "\n",
    "    auroc = roc_auc_score(y, y_pred_prob)\n",
    "    \n",
    "    if threshold is None:\n",
    "        precisions, recalls, thresholds = precision_recall_curve(y, y_pred_prob)\n",
    "        _, threshold = get_optimal_threshold(precisions, recalls, thresholds)\n",
    "    \n",
    "    y_pred = y_pred_prob >= threshold\n",
    "\n",
    "    precision = precision_score(y, y_pred)\n",
    "    recall = recall_score(y, y_pred)\n",
    "    f1 = f1_score(y, y_pred)\n",
    "\n",
    "    \n",
    "    results = {\n",
    "        \"loss\": loss,\n",
    "        \"AUROC\": auroc,\n",
    "        \"optimal_threshold\": threshold,\n",
    "        \"precision\": precision,\n",
    "        \"recall\": recall,\n",
    "        \"F1-score\": f1,\n",
    "    }\n",
    "    return results\n"
   ]
  },
  {
   "cell_type": "code",
   "execution_count": 253,
   "metadata": {},
   "outputs": [
    {
     "data": {
      "text/plain": [
       "{'loss': tensor(0.7868),\n",
       " 'AUROC': 0.8073980881533604,\n",
       " 'optimal_threshold': 0.33456445,\n",
       " 'precision': 0.4905405405405405,\n",
       " 'recall': 0.6945153061224489,\n",
       " 'F1-score': 0.574973600844773}"
      ]
     },
     "execution_count": 253,
     "metadata": {},
     "output_type": "execute_result"
    }
   ],
   "source": [
    "evaluate_model(model, X_test, y_test, loss_fn)"
   ]
  },
  {
   "cell_type": "code",
   "execution_count": 254,
   "metadata": {},
   "outputs": [
    {
     "data": {
      "image/png": "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",
      "text/plain": [
       "<Figure size 640x480 with 1 Axes>"
      ]
     },
     "metadata": {},
     "output_type": "display_data"
    }
   ],
   "source": [
    "model.eval()\n",
    "with torch.no_grad():\n",
    "    y_pred_valid_score = model.predict_proba(X_valid)\n",
    "plot_precision_recall_curve(y_valid, y_pred_valid_score)"
   ]
  },
  {
   "cell_type": "markdown",
   "metadata": {},
   "source": [
    "#### Zadanie 6 (1 punkt)\n",
    "\n",
    "Zaimplementuj 3-warstwową sieć MLP z regularyzacją L2 oraz dropout (50%). Rozmiary warstw ukrytych mają wynosić 256 i 128."
   ]
  },
  {
   "cell_type": "code",
   "execution_count": 255,
   "metadata": {},
   "outputs": [],
   "source": [
    "class RegularizedMLP(nn.Module):\n",
    "    def __init__(self, input_size: int, dropout_p: float = 0.5):\n",
    "        super().__init__()\n",
    "\n",
    "        self.mlp = nn.Sequential(\n",
    "            nn.Linear(input_size, 256),\n",
    "            nn.ReLU(),\n",
    "            nn.Dropout(dropout_p),\n",
    "            nn.Linear(256, 128),\n",
    "            nn.ReLU(),\n",
    "            nn.Dropout(dropout_p),\n",
    "            nn.Linear(128, 1)\n",
    "        )\n",
    "    \n",
    "    def forward(self, x):\n",
    "        return self.mlp(x)\n",
    "\n",
    "    def predict_proba(self, x):\n",
    "        return sigmoid(self(x))\n",
    "    \n",
    "    def predict(self, x):\n",
    "        y_pred_score = self.predict_proba(x)\n",
    "        return torch.argmax(y_pred_score, dim=1)\n"
   ]
  },
  {
   "cell_type": "code",
   "execution_count": 256,
   "metadata": {},
   "outputs": [
    {
     "name": "stdout",
     "output_type": "stream",
     "text": [
      "Epoch 0 train loss: 0.6778\n",
      "Epoch 200 train loss: 0.6580\n",
      "Epoch 400 train loss: 0.6408\n",
      "Epoch 600 train loss: 0.6261\n",
      "Epoch 800 train loss: 0.6125\n",
      "Epoch 1000 train loss: 0.6006\n",
      "Epoch 1200 train loss: 0.5913\n",
      "Epoch 1400 train loss: 0.5817\n",
      "Epoch 1600 train loss: 0.5727\n",
      "Epoch 1800 train loss: 0.5660\n",
      "final loss: 0.5595\n"
     ]
    }
   ],
   "source": [
    "learning_rate = 1e-3\n",
    "model = RegularizedMLP(input_size=X_train.shape[1])\n",
    "optimizer = torch.optim.SGD(model.parameters(), lr=learning_rate, weight_decay=1e-4)\n",
    "\n",
    "# note that we are using loss function with sigmoid built in\n",
    "loss_fn = torch.nn.BCEWithLogitsLoss()\n",
    "num_epochs = 2000\n",
    "evaluation_steps = 200\n",
    "\n",
    "for i in range(num_epochs):\n",
    "    y_pred = model(X_train)\n",
    "    \n",
    "    loss = loss_fn(y_pred, y_train)\n",
    "    \n",
    "    loss.backward()\n",
    "\n",
    "    optimizer.step()\n",
    "    optimizer.zero_grad()\n",
    "\n",
    "    if i % evaluation_steps == 0:\n",
    "        print(f\"Epoch {i} train loss: {loss.item():.4f}\")\n",
    "\n",
    "print(f\"final loss: {loss.item():.4f}\")"
   ]
  },
  {
   "cell_type": "code",
   "execution_count": 257,
   "metadata": {},
   "outputs": [
    {
     "data": {
      "text/plain": [
       "{'loss': tensor(0.6657),\n",
       " 'AUROC': 0.4377811539175832,\n",
       " 'optimal_threshold': 0.41065496,\n",
       " 'precision': 0.24074927068939045,\n",
       " 'recall': 1.0,\n",
       " 'F1-score': 0.38807078331889616}"
      ]
     },
     "execution_count": 257,
     "metadata": {},
     "output_type": "execute_result"
    }
   ],
   "source": [
    "evaluate_model(RegularizedMLP(X_train.shape[1]), X_test, y_test, nn.BCELoss(), None)"
   ]
  },
  {
   "cell_type": "code",
   "execution_count": 258,
   "metadata": {},
   "outputs": [
    {
     "data": {
      "image/png": "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",
      "text/plain": [
       "<Figure size 640x480 with 1 Axes>"
      ]
     },
     "metadata": {},
     "output_type": "display_data"
    }
   ],
   "source": [
    "model.eval()\n",
    "with torch.no_grad():\n",
    "    y_pred_valid_score = model.predict_proba(X_valid)\n",
    "plot_precision_recall_curve(y_valid, y_pred_valid_score)"
   ]
  },
  {
   "cell_type": "markdown",
   "metadata": {
    "id": "rEk9azaULAsz"
   },
   "source": [
    "Opisaliśmy wcześniej podstawowy optymalizator w sieciach neuronowych - spadek wzdłuż gradientu. Jednak wymaga on użycia całego zbioru danych, aby obliczyć gradient, co jest często niewykonalne przez rozmiar zbioru. Dlatego wymyślono **stochastyczny spadek wzdłuż gradientu (stochastic gradient descent, SGD)**, w którym używamy 1 przykładu naraz, liczymy gradient tylko po nim i aktualizujemy parametry. Jest to oczywiście dość grube przybliżenie gradientu, ale pozwala robić szybko dużo małych kroków. Kompromisem, którego używa się w praktyce, jest **minibatch gradient descent**, czyli używanie batchy np. 32, 64 czy 128 przykładów.\n",
    "\n",
    "Rzadko wspominanym, a ważnym faktem jest także to, że stochastyczność metody optymalizacji jest sama w sobie też [metodą regularyzacji](https://arxiv.org/abs/2101.12176), a więc `batch_size` to także hiperparametr.\n",
    "\n",
    "Obecnie najpopularniejszą odmianą SGD jest [Adam](https://arxiv.org/abs/1412.6980), gdyż uczy on szybko sieć oraz daje bardzo dobre wyniki nawet przy niekoniecznie idealnie dobranych hiperparametrach. W PyTorchu najlepiej korzystać z jego implementacji `AdamW`, która jest nieco lepsza niż implementacja `Adam`. Jest to zasadniczo zawsze wybór domyślny przy treningu współczesnych sieci neuronowych.\n",
    "\n",
    "Na razie użyjemy jednak minibatch SGD."
   ]
  },
  {
   "cell_type": "markdown",
   "metadata": {},
   "source": [
    "Poniżej znajduje się implementacja prostej klasy dziedziczącej po `Dataset` - tak w PyTorchu implementuje się własne zbiory danych. Użycie takich klas umożliwia użycie klas ładujących dane (`DataLoader`), które z kolei pozwalają łatwo ładować batche danych. Trzeba w takiej klasie zaimplementować metody:\n",
    "- `__len__` - zwraca ilość punktów w zbiorze\n",
    "- `__getitem__` - zwraca przykład ze zbioru pod danym indeksem oraz jego klasę\n"
   ]
  },
  {
   "cell_type": "code",
   "execution_count": 259,
   "metadata": {},
   "outputs": [],
   "source": [
    "from torch.utils.data import Dataset\n",
    "\n",
    "class MyDataset(Dataset):\n",
    "    def __init__(self, data, y):\n",
    "        super().__init__()\n",
    "        \n",
    "        self.data = data\n",
    "        self.y = y\n",
    "    \n",
    "    def __len__(self):\n",
    "        return self.data.shape[0]\n",
    "    \n",
    "    def __getitem__(self, idx):\n",
    "        return self.data[idx], self.y[idx]\n"
   ]
  },
  {
   "cell_type": "markdown",
   "metadata": {},
   "source": [
    "#### Zadanie 7 (2 punkty)\n",
    "\n",
    "Zaimplementuj pętlę treningowo-walidacyjną dla sieci neuronowej. Wykorzystaj podane wartości hiperparametrów do treningu (stała ucząca, prawdopodobieństwo dropoutu, regularyzacja L2, rozmiar batcha, maksymalna liczba epok). Użyj optymalizatora SGD.\n",
    "\n",
    "Dodatkowo zaimplementuj regularyzację przez early stopping. Sprawdzaj co epokę wynik na zbiorze walidacyjnym. Użyj podanej wartości patience, a jako metryki po prostu wartości funkcji kosztu. Może się tutaj przydać zaimplementowana funkcja `evaluate_model()`.\n",
    "\n",
    "Pamiętaj o tym, aby przechowywać najlepszy dotychczasowy wynik walidacyjny oraz najlepszy dotychczasowy model. Zapamiętaj też optymalny próg do klasyfikacji dla najlepszego modelu."
   ]
  },
  {
   "cell_type": "code",
   "execution_count": 260,
   "metadata": {},
   "outputs": [],
   "source": [
    "from copy import deepcopy\n",
    "\n",
    "from torch.utils.data import DataLoader\n",
    "\n",
    "\n",
    "learning_rate = 1e-3\n",
    "dropout_p = 0.5\n",
    "l2_reg = 1e-4\n",
    "batch_size = 128\n",
    "max_epochs = 300\n",
    "\n",
    "early_stopping_patience = 4"
   ]
  },
  {
   "cell_type": "code",
   "execution_count": 263,
   "metadata": {
    "scrolled": true
   },
   "outputs": [
    {
     "name": "stdout",
     "output_type": "stream",
     "text": [
      "Epoch 0 train loss: 0.6547, eval loss 0.8399106860160828\n",
      "Epoch 50 train loss: 0.4383, eval loss 0.728748083114624\n",
      "Epoch 100 train loss: 0.3938, eval loss 0.7070815563201904\n",
      "Epoch 150 train loss: 0.4123, eval loss 0.7001982927322388\n",
      "Epoch 200 train loss: 0.3916, eval loss 0.696630597114563\n",
      "Epoch 250 train loss: 0.3705, eval loss 0.6942743062973022\n",
      "Best loss: 0.6926081776618958, best_threshold: 0.3659895360469818\n"
     ]
    }
   ],
   "source": [
    "model = RegularizedMLP(\n",
    "    input_size=X_train.shape[1], \n",
    "    dropout_p=dropout_p\n",
    ")\n",
    "\n",
    "optimizer = torch.optim.SGD(\n",
    "    model.parameters(), \n",
    "    lr=learning_rate, \n",
    "    weight_decay=l2_reg\n",
    ")\n",
    "\n",
    "loss_fn = torch.nn.BCEWithLogitsLoss()\n",
    "\n",
    "train_dataset = MyDataset(X_train, y_train)\n",
    "train_dataloader = DataLoader(train_dataset, batch_size=batch_size)\n",
    "\n",
    "steps_without_improvement = 0\n",
    "\n",
    "best_val_loss = np.inf\n",
    "best_model = None\n",
    "best_threshold = None\n",
    "\n",
    "for epoch_num in range(max_epochs):\n",
    "    model.train()\n",
    "    \n",
    "    # note that we are using DataLoader to get batches\n",
    "    for X_batch, y_batch in train_dataloader:\n",
    "        y_pred = model(X_batch)\n",
    "        \n",
    "        loss = loss_fn(y_pred, y_batch)\n",
    "        \n",
    "        loss.backward()\n",
    "        \n",
    "        optimizer.step()\n",
    "        optimizer.zero_grad()\n",
    "    \n",
    "    # model evaluation, early stopping\n",
    "    model.eval()\n",
    "    valid_metrics = evaluate_model(model, X_valid, y_valid, loss_fn)\n",
    "    \n",
    "    if valid_metrics['loss'] < best_val_loss:\n",
    "        best_val_loss = valid_metrics['loss']\n",
    "        best_model = deepcopy(model)\n",
    "        steps_without_improvement = 0\n",
    "        best_threshold = valid_metrics['optimal_threshold']\n",
    "    else:\n",
    "        steps_without_improvement += 1\n",
    "    \n",
    "    if epoch_num % 50 == 0:\n",
    "        print(f\"Epoch {epoch_num} train loss: {loss.item():.4f}, eval loss {valid_metrics['loss']}\")\n",
    "    \n",
    "    if steps_without_improvement >= early_stopping_patience:\n",
    "        print(f\"Early stopping\")\n",
    "        break\n",
    "    \n",
    "print(f\"Best loss: {best_val_loss}, best_threshold: {best_threshold}\")\n"
   ]
  },
  {
   "cell_type": "code",
   "execution_count": 264,
   "metadata": {},
   "outputs": [
    {
     "name": "stdout",
     "output_type": "stream",
     "text": [
      "AUROC: 90.23%\n",
      "F1: 68.65%\n",
      "Precision: 63.90%\n",
      "Recall: 74.17%\n"
     ]
    }
   ],
   "source": [
    "test_metrics = evaluate_model(best_model, X_test, y_test, loss_fn, best_threshold)\n",
    "\n",
    "print(f\"AUROC: {100 * test_metrics['AUROC']:.2f}%\")\n",
    "print(f\"F1: {100 * test_metrics['F1-score']:.2f}%\")\n",
    "print(f\"Precision: {100 * test_metrics['precision']:.2f}%\")\n",
    "print(f\"Recall: {100 * test_metrics['recall']:.2f}%\")"
   ]
  },
  {
   "cell_type": "code",
   "execution_count": 265,
   "metadata": {},
   "outputs": [
    {
     "data": {
      "image/png": "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",
      "text/plain": [
       "<Figure size 640x480 with 1 Axes>"
      ]
     },
     "metadata": {},
     "output_type": "display_data"
    }
   ],
   "source": [
    "model.eval()\n",
    "with torch.no_grad():\n",
    "    y_pred_valid_score = model.predict_proba(X_valid)\n",
    "plot_precision_recall_curve(y_valid, y_pred_valid_score)"
   ]
  },
  {
   "cell_type": "markdown",
   "metadata": {},
   "source": [
    "Wyniki wyglądają już dużo lepiej.\n",
    "\n",
    "Na koniec laboratorium dołożymy do naszego modelu jeszcze 3 powrzechnie używane techniki, które są bardzo proste, a pozwalają często ulepszyć wynik modelu.\n",
    "\n",
    "Pierwszą z nich są **warstwy normalizacji (normalization layers)**. Powstały one początkowo z założeniem, że przez przekształcenia przestrzeni dokonywane przez sieć zmienia się rozkład prawdopodobieństw pomiędzy warstwami, czyli tzw. *internal covariate shift*. Później okazało się, że zastosowanie takiej normalizacji wygładza powierzchnię funkcji kosztu, co ułatwia i przyspiesza optymalizację. Najpowszechniej używaną normalizacją jest **batch normalization (batch norm)**.\n",
    "\n",
    "Drugim ulepszeniem jest dodanie **wag klas (class weights)**. Mamy do czynienia z problemem klasyfikacji niezbalansowanej, więc klasa mniejszościowa, ważniejsza dla nas, powinna dostać większą wagę. Implementuje się to trywialnie prosto - po prostu mnożymy wartość funkcji kosztu dla danego przykładu przez wagę dla prawdziwej klasy tego przykładu. Praktycznie każdy klasyfikator operujący na jakiejś ważonej funkcji może działać w ten sposób, nie tylko sieci neuronowe.\n",
    "\n",
    "Ostatnim ulepszeniem jest zamiana SGD na optymalizator Adam, a konkretnie na optymalizator `AdamW`. Jest to przykład **optymalizatora adaptacyjnego (adaptive optimizer)**, który potrafi zaadaptować stałą uczącą dla każdego parametru z osobna w trakcie treningu. Wykorzystuje do tego gradienty - w uproszczeniu, im większa wariancja gradientu, tym mniejsze kroki w tym kierunku robimy."
   ]
  },
  {
   "cell_type": "markdown",
   "metadata": {},
   "source": [
    "#### Zadanie 8 (1 punkt)\n",
    "\n",
    "Zaimplementuj model `NormalizingMLP`, o takiej samej strukturze jak `RegularizedMLP`, ale dodatkowo z warstwami `BatchNorm1d` pomiędzy warstwami `Linear` oraz `ReLU`.\n",
    "\n",
    "Za pomocą funkcji `compute_class_weight()` oblicz wagi dla poszczególnych klas. Użyj opcji `\"balanced\"`. Przekaż do funkcji kosztu wagę klasy pozytywnej (pamiętaj, aby zamienić ją na tensor).\n",
    "\n",
    "Zamień używany optymalizator na `AdamW`.\n",
    "\n",
    "Na koniec skopiuj resztę kodu do treningu z poprzedniego zadania, wytrenuj sieć i oblicz wyniki na zbiorze testowym."
   ]
  },
  {
   "cell_type": "code",
   "execution_count": 266,
   "metadata": {},
   "outputs": [],
   "source": [
    "class NormalizingMLP(nn.Module):\n",
    "    def __init__(self, input_size: int, dropout_p: float = 0.5):\n",
    "        super().__init__()\n",
    "\n",
    "        self.mlp = nn.Sequential(\n",
    "            nn.Linear(input_size, 256),\n",
    "            nn.BatchNorm1d(256),\n",
    "            nn.ReLU(),\n",
    "            nn.Dropout(dropout_p),\n",
    "            nn.Linear(256, 128),\n",
    "            nn.BatchNorm1d(128),\n",
    "            nn.ReLU(),\n",
    "            nn.Dropout(dropout_p),\n",
    "            nn.Linear(128, 1)\n",
    "        )\n",
    "    \n",
    "    def forward(self, x):\n",
    "        return self.mlp(x)\n",
    "\n",
    "    def predict_proba(self, x):\n",
    "        return sigmoid(self(x))\n",
    "    \n",
    "    def predict(self, x):\n",
    "        y_pred_score = self.predict_proba(x)\n",
    "        return torch.argmax(y_pred_score, dim=1)\n"
   ]
  },
  {
   "cell_type": "code",
   "execution_count": 267,
   "metadata": {},
   "outputs": [],
   "source": [
    "from sklearn.utils.class_weight import compute_class_weight\n",
    "\n",
    "weights = compute_class_weight(\n",
    "    class_weight=\"balanced\",\n",
    "    classes=np.unique(y),\n",
    "    y=y\n",
    ")\n",
    "\n",
    "learning_rate = 1e-3\n",
    "dropout_p = 0.5\n",
    "l2_reg = 1e-4\n",
    "batch_size = 128\n",
    "max_epochs = 300\n",
    "\n",
    "early_stopping_patience = 4"
   ]
  },
  {
   "cell_type": "code",
   "execution_count": 270,
   "metadata": {
    "scrolled": true
   },
   "outputs": [
    {
     "name": "stdout",
     "output_type": "stream",
     "text": [
      "Epoch 0 train loss: 0.5954, eval loss 0.8220909237861633\n",
      "Early stopping\n",
      "Best loss: 0.8077147603034973, best_threshold: 0.5592429041862488\n"
     ]
    }
   ],
   "source": [
    "model = NormalizingMLP(\n",
    "    input_size=X_train.shape[1], \n",
    "    dropout_p=dropout_p\n",
    ")\n",
    "\n",
    "optimizer = optim.AdamW(\n",
    "    model.parameters(),\n",
    "    lr=learning_rate,\n",
    "    weight_decay=l2_reg\n",
    ")\n",
    "\n",
    "loss_fn = torch.nn.BCEWithLogitsLoss(pos_weight=torch.from_numpy(weights)[1])\n",
    "\n",
    "train_dataset = MyDataset(X_train, y_train)\n",
    "train_dataloader = DataLoader(train_dataset, batch_size=batch_size)\n",
    "\n",
    "steps_without_improvement = 0\n",
    "\n",
    "best_val_loss = np.inf\n",
    "best_model = None\n",
    "best_threshold = None\n",
    "\n",
    "for epoch_num in range(max_epochs):\n",
    "    model.train()\n",
    "    \n",
    "    # note that we are using DataLoader to get batches\n",
    "    for X_batch, y_batch in train_dataloader:\n",
    "        y_pred = model(X_batch)\n",
    "        \n",
    "        loss = loss_fn(y_pred, y_batch)\n",
    "        \n",
    "        loss.backward()\n",
    "        \n",
    "        optimizer.step()\n",
    "        optimizer.zero_grad()\n",
    "    \n",
    "    # model evaluation, early stopping\n",
    "    model.eval()\n",
    "    valid_metrics = evaluate_model(model, X_valid, y_valid, loss_fn)\n",
    "    \n",
    "    if valid_metrics['loss'] < best_val_loss:\n",
    "        best_val_loss = valid_metrics['loss']\n",
    "        best_model = deepcopy(model)\n",
    "        steps_without_improvement = 0\n",
    "        best_threshold = valid_metrics['optimal_threshold']\n",
    "    else:\n",
    "        steps_without_improvement += 1\n",
    "    \n",
    "    if epoch_num % 50 == 0:\n",
    "        print(f\"Epoch {epoch_num} train loss: {loss.item():.4f}, eval loss {valid_metrics['loss']}\")\n",
    "    \n",
    "    if steps_without_improvement >= early_stopping_patience:\n",
    "        print(f\"Early stopping\")\n",
    "        break\n",
    "    \n",
    "print(f\"Best loss: {best_val_loss}, best_threshold: {best_threshold}\")\n"
   ]
  },
  {
   "cell_type": "code",
   "execution_count": 271,
   "metadata": {
    "scrolled": true
   },
   "outputs": [
    {
     "name": "stdout",
     "output_type": "stream",
     "text": [
      "AUROC: 90.76%\n",
      "F1: 68.90%\n",
      "Precision: 66.00%\n",
      "Recall: 72.07%\n"
     ]
    }
   ],
   "source": [
    "test_metrics = evaluate_model(best_model, X_test, y_test, loss_fn, best_threshold)\n",
    "\n",
    "print(f\"AUROC: {100 * test_metrics['AUROC']:.2f}%\")\n",
    "print(f\"F1: {100 * test_metrics['F1-score']:.2f}%\")\n",
    "print(f\"Precision: {100 * test_metrics['precision']:.2f}%\")\n",
    "print(f\"Recall: {100 * test_metrics['recall']:.2f}%\")"
   ]
  },
  {
   "cell_type": "code",
   "execution_count": 272,
   "metadata": {},
   "outputs": [
    {
     "data": {
      "image/png": "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",
      "text/plain": [
       "<Figure size 640x480 with 1 Axes>"
      ]
     },
     "metadata": {},
     "output_type": "display_data"
    }
   ],
   "source": [
    "model.eval()\n",
    "with torch.no_grad():\n",
    "    y_pred_valid_score = model.predict_proba(X_valid)\n",
    "plot_precision_recall_curve(y_valid, y_pred_valid_score)"
   ]
  },
  {
   "cell_type": "markdown",
   "metadata": {},
   "source": [
    "## Pytania kontrolne (1 punkt)\n",
    "\n",
    "1. Wymień 4 najważniejsze twoim zdaniem hiperparametry sieci neuronowej.\n",
    "2. Czy widzisz jakiś problem w użyciu regularyzacji L1 w treningu sieci neuronowych? Czy dropout może twoim zdaniem stanowić alternatywę dla tego rodzaju regularyzacji?\n",
    "3. Czy użycie innej metryki do wczesnego stopu da taki sam model końcowy? Czemu?"
   ]
  },
  {
   "cell_type": "markdown",
   "metadata": {},
   "source": [
    "Ad 1. Learning rate, batch size, liczba epok, funkcja aktywacji\n",
    "\n",
    "Ad 2. Regularyzacja L1 przypisuje wybranym cechom wagę równą 0, a więc dezaktywuje niektóre neurony. Dropout działa podobnie, ale w jego przypadku dezaktywowane są losowe neurony. Z tego względu dropout może być lepszy niż regularyzacja L1 i może stanowić jej sensowną alternatywę.\n",
    "\n",
    "Ad 3. Otrzymane modele końcowe mogą być różne (i zazwyczaj będą), ponieważ metryki zachowują się w różny sposób i dają różne wyniki. Metrykę wykorzystana w funkcji stopu można postrzegać jako hiperparametr."
   ]
  },
  {
   "cell_type": "markdown",
   "metadata": {
    "id": "XyoRnHT4GFR9"
   },
   "source": [
    "## Akceleracja sprzętowa (dla zainteresowanych)"
   ]
  },
  {
   "cell_type": "markdown",
   "metadata": {},
   "source": [
    "Jak wcześniej wspominaliśmy, użycie akceleracji sprzętowej, czyli po prostu GPU do obliczeń, jest bardzo efektywne w przypadku sieci neuronowych. Karty graficzne bardzo efektywnie mnożą macierze, a sieci neuronowe to, jak można było się przekonać, dużo mnożenia macierzy.\n",
    "\n",
    "W PyTorchu jest to dosyć łatwe, ale trzeba robić to explicite. Służy do tego metoda `.to()`, która przenosi tensory między CPU i GPU. Poniżej przykład, jak to się robi (oczywiście trzeba mieć skonfigurowane GPU, żeby działało):"
   ]
  },
  {
   "cell_type": "code",
   "execution_count": null,
   "metadata": {},
   "outputs": [],
   "source": [
    "import time \n",
    "\n",
    "model = NormalizingMLP(\n",
    "    input_size=X_train.shape[1], \n",
    "    dropout_p=dropout_p\n",
    ").to('cuda')\n",
    "\n",
    "optimizer = torch.optim.AdamW(model.parameters(), lr=learning_rate, weight_decay=1e-4)\n",
    "\n",
    "# note that we are using loss function with sigmoid built in\n",
    "loss_fn = torch.nn.BCEWithLogitsLoss(pos_weight=torch.from_numpy(weights)[1].to('cuda'))\n",
    "\n",
    "step_counter = 0\n",
    "time_from_eval = time.time()\n",
    "for epoch_id in range(30):\n",
    "    for batch_x, batch_y in train_dataloader:\n",
    "        batch_x = batch_x.to('cuda')\n",
    "        batch_y = batch_y.to('cuda')\n",
    "        \n",
    "        loss = loss_fn(model(batch_x), batch_y)\n",
    "        loss.backward()\n",
    "\n",
    "        optimizer.step()\n",
    "        optimizer.zero_grad()\n",
    "        \n",
    "        if step_counter % evaluation_steps == 0:\n",
    "            print(f\"Epoch {epoch_id} train loss: {loss.item():.4f}, time: {time.time() - time_from_eval}\")\n",
    "            time_from_eval = time.time()\n",
    "\n",
    "        step_counter += 1\n",
    "\n",
    "test_res = evaluate_model(model.to('cpu'), X_test, y_test, loss_fn.to('cpu'), threshold=0.5)\n",
    "\n",
    "print(f\"AUROC: {100 * test_metrics['AUROC']:.2f}%\")\n",
    "print(f\"F1: {100 * test_metrics['F1-score']:.2f}%\")"
   ]
  },
  {
   "cell_type": "markdown",
   "metadata": {},
   "source": [
    "Wyniki mogą się różnić z modelem na CPU, zauważ o ile szybszy jest ten model w porównaniu z CPU (przynajmniej w przypadków scenariuszy tak będzie ;)).\n",
    "\n",
    "Dla zainteresowanych polecamy [tę serie artykułów](https://medium.com/@adi.fu7/ai-accelerators-part-i-intro-822c2cdb4ca4)"
   ]
  },
  {
   "cell_type": "markdown",
   "metadata": {},
   "source": [
    "## Zadanie dla chętnych"
   ]
  },
  {
   "cell_type": "markdown",
   "metadata": {},
   "source": [
    "Jak widzieliśmy, sieci neuronowe mają bardzo dużo hiperparametrów. Przeszukiwanie ich grid search'em jest więc niewykonalne, a chociaż random search by działał, to potrzebowałby wielu iteracji, co też jest kosztowne obliczeniowo.\n",
    "\n",
    "Zaimplementuj inteligentne przeszukiwanie przestrzeni hiperparametrów za pomocą biblioteki [Optuna](https://optuna.org/). Implementuje ona między innymi algorytm Tree Parzen Estimator (TPE), należący do grupy algorytmów typu Bayesian search. Typowo osiągają one bardzo dobre wyniki, a właściwie zawsze lepsze od przeszukiwania losowego. Do tego wystarcza im często niewielka liczba kroków.\n",
    "\n",
    "Zaimplementuj 3-warstwową sieć MLP, gdzie pierwsza warstwa ma rozmiar ukryty N, a druga N // 2. Ucz ją optymalizatorem Adam przez maksymalnie 300 epok z cierpliwością 10.\n",
    "\n",
    "Przeszukaj wybrane zakresy dla hiperparametrów:\n",
    "- rozmiar warstw ukrytych (N)\n",
    "- stała ucząca\n",
    "- batch size\n",
    "- siła regularyzacji L2\n",
    "- prawdopodobieństwo dropoutu\n",
    "\n",
    "Wykorzystaj przynajmniej 30 iteracji. Następnie przełącz algorytm na losowy (Optuna także jego implementuje), wykonaj 30 iteracji i porównaj jakość wyników.\n",
    "\n",
    "Przydatne materiały:\n",
    "- [Optuna code examples - PyTorch](https://optuna.org/#code_examples)\n",
    "- [Auto-Tuning Hyperparameters with Optuna and PyTorch](https://www.youtube.com/watch?v=P6NwZVl8ttc)\n",
    "- [Hyperparameter Tuning of Neural Networks with Optuna and PyTorch](https://towardsdatascience.com/hyperparameter-tuning-of-neural-networks-with-optuna-and-pytorch-22e179efc837)\n",
    "- [Using Optuna to Optimize PyTorch Hyperparameters](https://medium.com/pytorch/using-optuna-to-optimize-pytorch-hyperparameters-990607385e36)"
   ]
  },
  {
   "cell_type": "code",
   "execution_count": null,
   "metadata": {},
   "outputs": [],
   "source": []
  }
 ],
 "metadata": {
  "colab": {
   "collapsed_sections": [],
   "provenance": []
  },
  "kernelspec": {
   "display_name": "Python 3 (ipykernel)",
   "language": "python",
   "name": "python3"
  },
  "language_info": {
   "codemirror_mode": {
    "name": "ipython",
    "version": 3
   },
   "file_extension": ".py",
   "mimetype": "text/x-python",
   "name": "python",
   "nbconvert_exporter": "python",
   "pygments_lexer": "ipython3",
   "version": "3.11.6"
  },
  "toc": {
   "base_numbering": 1,
   "nav_menu": {},
   "number_sections": false,
   "sideBar": false,
   "skip_h1_title": false,
   "title_cell": "Table of Contents",
   "title_sidebar": "Contents",
   "toc_cell": false,
   "toc_position": {},
   "toc_section_display": true,
   "toc_window_display": true
  },
  "vscode": {
   "interpreter": {
    "hash": "a5d7af91182035c53be6efb3f9b18ffc3e259c9c524705249407647c970de949"
   }
  }
 },
 "nbformat": 4,
 "nbformat_minor": 1
}
=======
   "nbformat": 4,
   "nbformat_minor": 1
}
